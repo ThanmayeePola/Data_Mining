{
  "nbformat": 4,
  "nbformat_minor": 0,
  "metadata": {
    "colab": {
      "provenance": [],
      "collapsed_sections": [],
      "include_colab_link": true
    },
    "kernelspec": {
      "name": "python3",
      "display_name": "Python 3"
    },
    "language_info": {
      "name": "python"
    }
  },
  "cells": [
    {
      "cell_type": "markdown",
      "metadata": {
        "id": "view-in-github",
        "colab_type": "text"
      },
      "source": [
        "<a href=\"https://colab.research.google.com/github/ThanmayeePola/Data_Mining/blob/main/homework2.ipynb\" target=\"_parent\"><img src=\"https://colab.research.google.com/assets/colab-badge.svg\" alt=\"Open In Colab\"/></a>"
      ]
    },
    {
      "cell_type": "code",
      "source": [
        "import numpy as np\n",
        "import pandas as pd"
      ],
      "metadata": {
        "id": "OoprxkXWPvdl"
      },
      "execution_count": null,
      "outputs": []
    },
    {
      "cell_type": "code",
      "source": [
        "dataset=pd.read_csv(\"red_wine.csv\")"
      ],
      "metadata": {
        "id": "6vKqPmDjQlBR"
      },
      "execution_count": null,
      "outputs": []
    },
    {
      "cell_type": "code",
      "source": [
        "dataset.head(5)"
      ],
      "metadata": {
        "colab": {
          "base_uri": "https://localhost:8080/",
          "height": 206
        },
        "id": "FoNwwkAnQtNq",
        "outputId": "dbe32d19-1401-4afc-e818-cf4ebf3dff30"
      },
      "execution_count": null,
      "outputs": [
        {
          "output_type": "execute_result",
          "data": {
            "text/plain": [
              "   citric acid  sulphates  alcohol  type\n",
              "0         0.49       0.63      8.0   low\n",
              "1         0.66       0.57      8.3   low\n",
              "2         0.23       0.44      8.5  high\n",
              "3         0.44       0.84      8.6   low\n",
              "4         0.08       0.50      8.7   low"
            ],
            "text/html": [
              "\n",
              "  <div id=\"df-684d00b6-9282-489e-8fc4-ce12e3a79cbc\">\n",
              "    <div class=\"colab-df-container\">\n",
              "      <div>\n",
              "<style scoped>\n",
              "    .dataframe tbody tr th:only-of-type {\n",
              "        vertical-align: middle;\n",
              "    }\n",
              "\n",
              "    .dataframe tbody tr th {\n",
              "        vertical-align: top;\n",
              "    }\n",
              "\n",
              "    .dataframe thead th {\n",
              "        text-align: right;\n",
              "    }\n",
              "</style>\n",
              "<table border=\"1\" class=\"dataframe\">\n",
              "  <thead>\n",
              "    <tr style=\"text-align: right;\">\n",
              "      <th></th>\n",
              "      <th>citric acid</th>\n",
              "      <th>sulphates</th>\n",
              "      <th>alcohol</th>\n",
              "      <th>type</th>\n",
              "    </tr>\n",
              "  </thead>\n",
              "  <tbody>\n",
              "    <tr>\n",
              "      <th>0</th>\n",
              "      <td>0.49</td>\n",
              "      <td>0.63</td>\n",
              "      <td>8.0</td>\n",
              "      <td>low</td>\n",
              "    </tr>\n",
              "    <tr>\n",
              "      <th>1</th>\n",
              "      <td>0.66</td>\n",
              "      <td>0.57</td>\n",
              "      <td>8.3</td>\n",
              "      <td>low</td>\n",
              "    </tr>\n",
              "    <tr>\n",
              "      <th>2</th>\n",
              "      <td>0.23</td>\n",
              "      <td>0.44</td>\n",
              "      <td>8.5</td>\n",
              "      <td>high</td>\n",
              "    </tr>\n",
              "    <tr>\n",
              "      <th>3</th>\n",
              "      <td>0.44</td>\n",
              "      <td>0.84</td>\n",
              "      <td>8.6</td>\n",
              "      <td>low</td>\n",
              "    </tr>\n",
              "    <tr>\n",
              "      <th>4</th>\n",
              "      <td>0.08</td>\n",
              "      <td>0.50</td>\n",
              "      <td>8.7</td>\n",
              "      <td>low</td>\n",
              "    </tr>\n",
              "  </tbody>\n",
              "</table>\n",
              "</div>\n",
              "      <button class=\"colab-df-convert\" onclick=\"convertToInteractive('df-684d00b6-9282-489e-8fc4-ce12e3a79cbc')\"\n",
              "              title=\"Convert this dataframe to an interactive table.\"\n",
              "              style=\"display:none;\">\n",
              "        \n",
              "  <svg xmlns=\"http://www.w3.org/2000/svg\" height=\"24px\"viewBox=\"0 0 24 24\"\n",
              "       width=\"24px\">\n",
              "    <path d=\"M0 0h24v24H0V0z\" fill=\"none\"/>\n",
              "    <path d=\"M18.56 5.44l.94 2.06.94-2.06 2.06-.94-2.06-.94-.94-2.06-.94 2.06-2.06.94zm-11 1L8.5 8.5l.94-2.06 2.06-.94-2.06-.94L8.5 2.5l-.94 2.06-2.06.94zm10 10l.94 2.06.94-2.06 2.06-.94-2.06-.94-.94-2.06-.94 2.06-2.06.94z\"/><path d=\"M17.41 7.96l-1.37-1.37c-.4-.4-.92-.59-1.43-.59-.52 0-1.04.2-1.43.59L10.3 9.45l-7.72 7.72c-.78.78-.78 2.05 0 2.83L4 21.41c.39.39.9.59 1.41.59.51 0 1.02-.2 1.41-.59l7.78-7.78 2.81-2.81c.8-.78.8-2.07 0-2.86zM5.41 20L4 18.59l7.72-7.72 1.47 1.35L5.41 20z\"/>\n",
              "  </svg>\n",
              "      </button>\n",
              "      \n",
              "  <style>\n",
              "    .colab-df-container {\n",
              "      display:flex;\n",
              "      flex-wrap:wrap;\n",
              "      gap: 12px;\n",
              "    }\n",
              "\n",
              "    .colab-df-convert {\n",
              "      background-color: #E8F0FE;\n",
              "      border: none;\n",
              "      border-radius: 50%;\n",
              "      cursor: pointer;\n",
              "      display: none;\n",
              "      fill: #1967D2;\n",
              "      height: 32px;\n",
              "      padding: 0 0 0 0;\n",
              "      width: 32px;\n",
              "    }\n",
              "\n",
              "    .colab-df-convert:hover {\n",
              "      background-color: #E2EBFA;\n",
              "      box-shadow: 0px 1px 2px rgba(60, 64, 67, 0.3), 0px 1px 3px 1px rgba(60, 64, 67, 0.15);\n",
              "      fill: #174EA6;\n",
              "    }\n",
              "\n",
              "    [theme=dark] .colab-df-convert {\n",
              "      background-color: #3B4455;\n",
              "      fill: #D2E3FC;\n",
              "    }\n",
              "\n",
              "    [theme=dark] .colab-df-convert:hover {\n",
              "      background-color: #434B5C;\n",
              "      box-shadow: 0px 1px 3px 1px rgba(0, 0, 0, 0.15);\n",
              "      filter: drop-shadow(0px 1px 2px rgba(0, 0, 0, 0.3));\n",
              "      fill: #FFFFFF;\n",
              "    }\n",
              "  </style>\n",
              "\n",
              "      <script>\n",
              "        const buttonEl =\n",
              "          document.querySelector('#df-684d00b6-9282-489e-8fc4-ce12e3a79cbc button.colab-df-convert');\n",
              "        buttonEl.style.display =\n",
              "          google.colab.kernel.accessAllowed ? 'block' : 'none';\n",
              "\n",
              "        async function convertToInteractive(key) {\n",
              "          const element = document.querySelector('#df-684d00b6-9282-489e-8fc4-ce12e3a79cbc');\n",
              "          const dataTable =\n",
              "            await google.colab.kernel.invokeFunction('convertToInteractive',\n",
              "                                                     [key], {});\n",
              "          if (!dataTable) return;\n",
              "\n",
              "          const docLinkHtml = 'Like what you see? Visit the ' +\n",
              "            '<a target=\"_blank\" href=https://colab.research.google.com/notebooks/data_table.ipynb>data table notebook</a>'\n",
              "            + ' to learn more about interactive tables.';\n",
              "          element.innerHTML = '';\n",
              "          dataTable['output_type'] = 'display_data';\n",
              "          await google.colab.output.renderOutput(dataTable, element);\n",
              "          const docLink = document.createElement('div');\n",
              "          docLink.innerHTML = docLinkHtml;\n",
              "          element.appendChild(docLink);\n",
              "        }\n",
              "      </script>\n",
              "    </div>\n",
              "  </div>\n",
              "  "
            ]
          },
          "metadata": {},
          "execution_count": 112
        }
      ]
    },
    {
      "cell_type": "markdown",
      "source": [],
      "metadata": {
        "id": "_hV-swTCRuo5"
      }
    },
    {
      "cell_type": "code",
      "source": [
        "dataset.isnull().sum()"
      ],
      "metadata": {
        "colab": {
          "base_uri": "https://localhost:8080/"
        },
        "id": "EkrSZXJoQ2Ri",
        "outputId": "d4529afd-fff2-4053-aced-49cce8d29879"
      },
      "execution_count": null,
      "outputs": [
        {
          "output_type": "execute_result",
          "data": {
            "text/plain": [
              "citric acid    0\n",
              "sulphates      0\n",
              "alcohol        0\n",
              "type           0\n",
              "dtype: int64"
            ]
          },
          "metadata": {},
          "execution_count": 113
        }
      ]
    },
    {
      "cell_type": "code",
      "source": [
        "dataset.info()"
      ],
      "metadata": {
        "colab": {
          "base_uri": "https://localhost:8080/"
        },
        "id": "MCT8dZyYQ7Ez",
        "outputId": "e0ae0aad-cc82-421d-c4ba-978e336793a1"
      },
      "execution_count": null,
      "outputs": [
        {
          "output_type": "stream",
          "name": "stdout",
          "text": [
            "<class 'pandas.core.frame.DataFrame'>\n",
            "RangeIndex: 571 entries, 0 to 570\n",
            "Data columns (total 4 columns):\n",
            " #   Column       Non-Null Count  Dtype  \n",
            "---  ------       --------------  -----  \n",
            " 0   citric acid  571 non-null    float64\n",
            " 1   sulphates    571 non-null    float64\n",
            " 2   alcohol      571 non-null    float64\n",
            " 3   type         571 non-null    object \n",
            "dtypes: float64(3), object(1)\n",
            "memory usage: 18.0+ KB\n"
          ]
        }
      ]
    },
    {
      "cell_type": "code",
      "source": [
        "x=dataset.iloc[:,0:3].values\n",
        "y=dataset.iloc[:,3:4].values"
      ],
      "metadata": {
        "id": "1gCmNUxPQ_IK"
      },
      "execution_count": null,
      "outputs": []
    },
    {
      "cell_type": "code",
      "source": [
        "x"
      ],
      "metadata": {
        "colab": {
          "base_uri": "https://localhost:8080/"
        },
        "id": "3Xjrk7z9Rdh2",
        "outputId": "3ad43bd8-9bb6-4506-db07-f8ea04696834"
      },
      "execution_count": null,
      "outputs": [
        {
          "output_type": "execute_result",
          "data": {
            "text/plain": [
              "array([[ 0.49,  0.63,  8.  ],\n",
              "       [ 0.66,  0.57,  8.3 ],\n",
              "       [ 0.23,  0.44,  8.5 ],\n",
              "       ...,\n",
              "       [ 0.31,  0.6 , 12.8 ],\n",
              "       [ 0.34,  0.72, 12.8 ],\n",
              "       [ 0.35,  0.32, 12.8 ]])"
            ]
          },
          "metadata": {},
          "execution_count": 116
        }
      ]
    },
    {
      "cell_type": "code",
      "source": [
        "y"
      ],
      "metadata": {
        "colab": {
          "base_uri": "https://localhost:8080/"
        },
        "id": "7CG37wFuReeM",
        "outputId": "69a4602f-4f73-4a19-afa5-b2ac5ff2312c"
      },
      "execution_count": null,
      "outputs": [
        {
          "output_type": "execute_result",
          "data": {
            "text/plain": [
              "array([['low'],\n",
              "       ['low'],\n",
              "       ['high'],\n",
              "       ['low'],\n",
              "       ['low'],\n",
              "       ['low'],\n",
              "       ['low'],\n",
              "       ['low'],\n",
              "       ['high'],\n",
              "       ['high'],\n",
              "       ['high'],\n",
              "       ['high'],\n",
              "       ['high'],\n",
              "       ['low'],\n",
              "       ['low'],\n",
              "       ['low'],\n",
              "       ['high'],\n",
              "       ['high'],\n",
              "       ['high'],\n",
              "       ['low'],\n",
              "       ['high'],\n",
              "       ['high'],\n",
              "       ['high'],\n",
              "       ['high'],\n",
              "       ['low'],\n",
              "       ['high'],\n",
              "       ['high'],\n",
              "       ['high'],\n",
              "       ['high'],\n",
              "       ['high'],\n",
              "       ['high'],\n",
              "       ['high'],\n",
              "       ['low'],\n",
              "       ['high'],\n",
              "       ['low'],\n",
              "       ['high'],\n",
              "       ['high'],\n",
              "       ['high'],\n",
              "       ['high'],\n",
              "       ['high'],\n",
              "       ['high'],\n",
              "       ['low'],\n",
              "       ['high'],\n",
              "       ['high'],\n",
              "       ['high'],\n",
              "       ['high'],\n",
              "       ['low'],\n",
              "       ['low'],\n",
              "       ['high'],\n",
              "       ['low'],\n",
              "       ['high'],\n",
              "       ['low'],\n",
              "       ['low'],\n",
              "       ['high'],\n",
              "       ['high'],\n",
              "       ['high'],\n",
              "       ['high'],\n",
              "       ['low'],\n",
              "       ['high'],\n",
              "       ['high'],\n",
              "       ['high'],\n",
              "       ['low'],\n",
              "       ['high'],\n",
              "       ['high'],\n",
              "       ['high'],\n",
              "       ['high'],\n",
              "       ['low'],\n",
              "       ['high'],\n",
              "       ['high'],\n",
              "       ['high'],\n",
              "       ['high'],\n",
              "       ['high'],\n",
              "       ['low'],\n",
              "       ['low'],\n",
              "       ['low'],\n",
              "       ['low'],\n",
              "       ['low'],\n",
              "       ['high'],\n",
              "       ['low'],\n",
              "       ['low'],\n",
              "       ['high'],\n",
              "       ['low'],\n",
              "       ['low'],\n",
              "       ['low'],\n",
              "       ['high'],\n",
              "       ['high'],\n",
              "       ['high'],\n",
              "       ['high'],\n",
              "       ['high'],\n",
              "       ['low'],\n",
              "       ['high'],\n",
              "       ['low'],\n",
              "       ['high'],\n",
              "       ['high'],\n",
              "       ['high'],\n",
              "       ['low'],\n",
              "       ['low'],\n",
              "       ['high'],\n",
              "       ['low'],\n",
              "       ['high'],\n",
              "       ['low'],\n",
              "       ['low'],\n",
              "       ['low'],\n",
              "       ['high'],\n",
              "       ['high'],\n",
              "       ['high'],\n",
              "       ['high'],\n",
              "       ['low'],\n",
              "       ['low'],\n",
              "       ['low'],\n",
              "       ['high'],\n",
              "       ['low'],\n",
              "       ['low'],\n",
              "       ['low'],\n",
              "       ['high'],\n",
              "       ['high'],\n",
              "       ['high'],\n",
              "       ['low'],\n",
              "       ['high'],\n",
              "       ['low'],\n",
              "       ['low'],\n",
              "       ['low'],\n",
              "       ['high'],\n",
              "       ['high'],\n",
              "       ['high'],\n",
              "       ['high'],\n",
              "       ['low'],\n",
              "       ['high'],\n",
              "       ['high'],\n",
              "       ['low'],\n",
              "       ['low'],\n",
              "       ['low'],\n",
              "       ['low'],\n",
              "       ['high'],\n",
              "       ['low'],\n",
              "       ['high'],\n",
              "       ['high'],\n",
              "       ['high'],\n",
              "       ['high'],\n",
              "       ['high'],\n",
              "       ['high'],\n",
              "       ['high'],\n",
              "       ['high'],\n",
              "       ['high'],\n",
              "       ['high'],\n",
              "       ['high'],\n",
              "       ['high'],\n",
              "       ['low'],\n",
              "       ['high'],\n",
              "       ['low'],\n",
              "       ['low'],\n",
              "       ['low'],\n",
              "       ['low'],\n",
              "       ['high'],\n",
              "       ['high'],\n",
              "       ['low'],\n",
              "       ['low'],\n",
              "       ['low'],\n",
              "       ['low'],\n",
              "       ['low'],\n",
              "       ['low'],\n",
              "       ['low'],\n",
              "       ['high'],\n",
              "       ['high'],\n",
              "       ['high'],\n",
              "       ['low'],\n",
              "       ['low'],\n",
              "       ['low'],\n",
              "       ['high'],\n",
              "       ['high'],\n",
              "       ['high'],\n",
              "       ['high'],\n",
              "       ['low'],\n",
              "       ['high'],\n",
              "       ['low'],\n",
              "       ['high'],\n",
              "       ['low'],\n",
              "       ['high'],\n",
              "       ['high'],\n",
              "       ['low'],\n",
              "       ['high'],\n",
              "       ['high'],\n",
              "       ['low'],\n",
              "       ['low'],\n",
              "       ['low'],\n",
              "       ['low'],\n",
              "       ['high'],\n",
              "       ['high'],\n",
              "       ['high'],\n",
              "       ['low'],\n",
              "       ['low'],\n",
              "       ['high'],\n",
              "       ['high'],\n",
              "       ['high'],\n",
              "       ['high'],\n",
              "       ['high'],\n",
              "       ['low'],\n",
              "       ['high'],\n",
              "       ['low'],\n",
              "       ['low'],\n",
              "       ['low'],\n",
              "       ['low'],\n",
              "       ['low'],\n",
              "       ['low'],\n",
              "       ['high'],\n",
              "       ['high'],\n",
              "       ['high'],\n",
              "       ['high'],\n",
              "       ['high'],\n",
              "       ['high'],\n",
              "       ['high'],\n",
              "       ['low'],\n",
              "       ['low'],\n",
              "       ['low'],\n",
              "       ['low'],\n",
              "       ['low'],\n",
              "       ['high'],\n",
              "       ['low'],\n",
              "       ['high'],\n",
              "       ['low'],\n",
              "       ['high'],\n",
              "       ['low'],\n",
              "       ['low'],\n",
              "       ['low'],\n",
              "       ['low'],\n",
              "       ['low'],\n",
              "       ['high'],\n",
              "       ['high'],\n",
              "       ['high'],\n",
              "       ['high'],\n",
              "       ['high'],\n",
              "       ['low'],\n",
              "       ['high'],\n",
              "       ['low'],\n",
              "       ['low'],\n",
              "       ['low'],\n",
              "       ['low'],\n",
              "       ['high'],\n",
              "       ['low'],\n",
              "       ['low'],\n",
              "       ['low'],\n",
              "       ['low'],\n",
              "       ['low'],\n",
              "       ['low'],\n",
              "       ['low'],\n",
              "       ['high'],\n",
              "       ['high'],\n",
              "       ['high'],\n",
              "       ['high'],\n",
              "       ['high'],\n",
              "       ['low'],\n",
              "       ['high'],\n",
              "       ['low'],\n",
              "       ['low'],\n",
              "       ['low'],\n",
              "       ['high'],\n",
              "       ['high'],\n",
              "       ['low'],\n",
              "       ['low'],\n",
              "       ['low'],\n",
              "       ['low'],\n",
              "       ['low'],\n",
              "       ['high'],\n",
              "       ['high'],\n",
              "       ['high'],\n",
              "       ['high'],\n",
              "       ['low'],\n",
              "       ['high'],\n",
              "       ['high'],\n",
              "       ['high'],\n",
              "       ['low'],\n",
              "       ['low'],\n",
              "       ['high'],\n",
              "       ['high'],\n",
              "       ['low'],\n",
              "       ['low'],\n",
              "       ['low'],\n",
              "       ['low'],\n",
              "       ['low'],\n",
              "       ['high'],\n",
              "       ['high'],\n",
              "       ['low'],\n",
              "       ['high'],\n",
              "       ['low'],\n",
              "       ['high'],\n",
              "       ['high'],\n",
              "       ['high'],\n",
              "       ['low'],\n",
              "       ['low'],\n",
              "       ['low'],\n",
              "       ['low'],\n",
              "       ['high'],\n",
              "       ['low'],\n",
              "       ['high'],\n",
              "       ['high'],\n",
              "       ['high'],\n",
              "       ['low'],\n",
              "       ['high'],\n",
              "       ['high'],\n",
              "       ['low'],\n",
              "       ['high'],\n",
              "       ['low'],\n",
              "       ['low'],\n",
              "       ['low'],\n",
              "       ['low'],\n",
              "       ['high'],\n",
              "       ['high'],\n",
              "       ['high'],\n",
              "       ['high'],\n",
              "       ['high'],\n",
              "       ['high'],\n",
              "       ['high'],\n",
              "       ['high'],\n",
              "       ['high'],\n",
              "       ['low'],\n",
              "       ['low'],\n",
              "       ['high'],\n",
              "       ['low'],\n",
              "       ['low'],\n",
              "       ['low'],\n",
              "       ['low'],\n",
              "       ['low'],\n",
              "       ['low'],\n",
              "       ['low'],\n",
              "       ['low'],\n",
              "       ['low'],\n",
              "       ['high'],\n",
              "       ['high'],\n",
              "       ['high'],\n",
              "       ['high'],\n",
              "       ['low'],\n",
              "       ['high'],\n",
              "       ['low'],\n",
              "       ['low'],\n",
              "       ['low'],\n",
              "       ['low'],\n",
              "       ['low'],\n",
              "       ['low'],\n",
              "       ['high'],\n",
              "       ['high'],\n",
              "       ['high'],\n",
              "       ['high'],\n",
              "       ['low'],\n",
              "       ['high'],\n",
              "       ['high'],\n",
              "       ['high'],\n",
              "       ['high'],\n",
              "       ['low'],\n",
              "       ['low'],\n",
              "       ['low'],\n",
              "       ['high'],\n",
              "       ['low'],\n",
              "       ['low'],\n",
              "       ['low'],\n",
              "       ['low'],\n",
              "       ['low'],\n",
              "       ['low'],\n",
              "       ['low'],\n",
              "       ['low'],\n",
              "       ['low'],\n",
              "       ['high'],\n",
              "       ['high'],\n",
              "       ['high'],\n",
              "       ['high'],\n",
              "       ['low'],\n",
              "       ['high'],\n",
              "       ['low'],\n",
              "       ['high'],\n",
              "       ['low'],\n",
              "       ['high'],\n",
              "       ['low'],\n",
              "       ['low'],\n",
              "       ['low'],\n",
              "       ['high'],\n",
              "       ['high'],\n",
              "       ['high'],\n",
              "       ['low'],\n",
              "       ['low'],\n",
              "       ['high'],\n",
              "       ['high'],\n",
              "       ['high'],\n",
              "       ['high'],\n",
              "       ['high'],\n",
              "       ['high'],\n",
              "       ['low'],\n",
              "       ['low'],\n",
              "       ['low'],\n",
              "       ['high'],\n",
              "       ['high'],\n",
              "       ['low'],\n",
              "       ['high'],\n",
              "       ['high'],\n",
              "       ['low'],\n",
              "       ['low'],\n",
              "       ['low'],\n",
              "       ['low'],\n",
              "       ['low'],\n",
              "       ['high'],\n",
              "       ['high'],\n",
              "       ['high'],\n",
              "       ['high'],\n",
              "       ['high'],\n",
              "       ['low'],\n",
              "       ['high'],\n",
              "       ['high'],\n",
              "       ['low'],\n",
              "       ['high'],\n",
              "       ['high'],\n",
              "       ['high'],\n",
              "       ['low'],\n",
              "       ['low'],\n",
              "       ['low'],\n",
              "       ['low'],\n",
              "       ['low'],\n",
              "       ['low'],\n",
              "       ['high'],\n",
              "       ['high'],\n",
              "       ['high'],\n",
              "       ['high'],\n",
              "       ['high'],\n",
              "       ['low'],\n",
              "       ['low'],\n",
              "       ['low'],\n",
              "       ['low'],\n",
              "       ['low'],\n",
              "       ['low'],\n",
              "       ['low'],\n",
              "       ['low'],\n",
              "       ['low'],\n",
              "       ['high'],\n",
              "       ['low'],\n",
              "       ['low'],\n",
              "       ['low'],\n",
              "       ['high'],\n",
              "       ['high'],\n",
              "       ['high'],\n",
              "       ['high'],\n",
              "       ['high'],\n",
              "       ['low'],\n",
              "       ['high'],\n",
              "       ['low'],\n",
              "       ['low'],\n",
              "       ['low'],\n",
              "       ['low'],\n",
              "       ['high'],\n",
              "       ['high'],\n",
              "       ['high'],\n",
              "       ['low'],\n",
              "       ['low'],\n",
              "       ['high'],\n",
              "       ['low'],\n",
              "       ['low'],\n",
              "       ['low'],\n",
              "       ['high'],\n",
              "       ['low'],\n",
              "       ['low'],\n",
              "       ['high'],\n",
              "       ['high'],\n",
              "       ['high'],\n",
              "       ['high'],\n",
              "       ['low'],\n",
              "       ['high'],\n",
              "       ['low'],\n",
              "       ['high'],\n",
              "       ['high'],\n",
              "       ['high'],\n",
              "       ['low'],\n",
              "       ['high'],\n",
              "       ['low'],\n",
              "       ['high'],\n",
              "       ['high'],\n",
              "       ['high'],\n",
              "       ['high'],\n",
              "       ['low'],\n",
              "       ['low'],\n",
              "       ['low'],\n",
              "       ['low'],\n",
              "       ['high'],\n",
              "       ['high'],\n",
              "       ['low'],\n",
              "       ['low'],\n",
              "       ['high'],\n",
              "       ['high'],\n",
              "       ['high'],\n",
              "       ['low'],\n",
              "       ['low'],\n",
              "       ['low'],\n",
              "       ['high'],\n",
              "       ['low'],\n",
              "       ['high'],\n",
              "       ['high'],\n",
              "       ['high'],\n",
              "       ['high'],\n",
              "       ['high'],\n",
              "       ['high'],\n",
              "       ['high'],\n",
              "       ['high'],\n",
              "       ['high'],\n",
              "       ['high'],\n",
              "       ['high'],\n",
              "       ['low'],\n",
              "       ['low'],\n",
              "       ['low'],\n",
              "       ['low'],\n",
              "       ['low'],\n",
              "       ['low'],\n",
              "       ['low'],\n",
              "       ['high'],\n",
              "       ['high'],\n",
              "       ['high'],\n",
              "       ['high'],\n",
              "       ['high'],\n",
              "       ['high'],\n",
              "       ['high'],\n",
              "       ['high'],\n",
              "       ['low'],\n",
              "       ['low'],\n",
              "       ['high'],\n",
              "       ['high'],\n",
              "       ['high'],\n",
              "       ['high'],\n",
              "       ['low'],\n",
              "       ['low'],\n",
              "       ['low'],\n",
              "       ['low'],\n",
              "       ['low'],\n",
              "       ['low'],\n",
              "       ['low'],\n",
              "       ['high'],\n",
              "       ['low'],\n",
              "       ['high'],\n",
              "       ['high'],\n",
              "       ['low'],\n",
              "       ['high'],\n",
              "       ['high'],\n",
              "       ['low'],\n",
              "       ['low'],\n",
              "       ['low'],\n",
              "       ['high'],\n",
              "       ['high'],\n",
              "       ['high'],\n",
              "       ['high'],\n",
              "       ['high'],\n",
              "       ['low'],\n",
              "       ['high'],\n",
              "       ['low'],\n",
              "       ['low'],\n",
              "       ['low'],\n",
              "       ['low'],\n",
              "       ['low'],\n",
              "       ['high'],\n",
              "       ['high'],\n",
              "       ['high'],\n",
              "       ['high'],\n",
              "       ['high'],\n",
              "       ['low'],\n",
              "       ['high'],\n",
              "       ['high'],\n",
              "       ['low'],\n",
              "       ['high'],\n",
              "       ['high'],\n",
              "       ['high'],\n",
              "       ['high'],\n",
              "       ['high'],\n",
              "       ['high'],\n",
              "       ['low'],\n",
              "       ['low'],\n",
              "       ['high'],\n",
              "       ['high'],\n",
              "       ['low'],\n",
              "       ['high']], dtype=object)"
            ]
          },
          "metadata": {},
          "execution_count": 117
        }
      ]
    },
    {
      "cell_type": "code",
      "source": [
        "x.shape"
      ],
      "metadata": {
        "colab": {
          "base_uri": "https://localhost:8080/"
        },
        "id": "OozBqnKERlwp",
        "outputId": "d9359da3-b12e-4b5e-ca85-036523605b5e"
      },
      "execution_count": null,
      "outputs": [
        {
          "output_type": "execute_result",
          "data": {
            "text/plain": [
              "(571, 3)"
            ]
          },
          "metadata": {},
          "execution_count": 118
        }
      ]
    },
    {
      "cell_type": "code",
      "source": [
        "from sklearn.preprocessing import LabelEncoder\n",
        "le=LabelEncoder()\n",
        "y=le.fit_transform(y)"
      ],
      "metadata": {
        "colab": {
          "base_uri": "https://localhost:8080/"
        },
        "id": "URItyXk-XZba",
        "outputId": "f7743533-735f-444c-e54e-0a3b26e7e422"
      },
      "execution_count": null,
      "outputs": [
        {
          "output_type": "stream",
          "name": "stderr",
          "text": [
            "/usr/local/lib/python3.7/dist-packages/sklearn/preprocessing/_label.py:115: DataConversionWarning: A column-vector y was passed when a 1d array was expected. Please change the shape of y to (n_samples, ), for example using ravel().\n",
            "  y = column_or_1d(y, warn=True)\n"
          ]
        }
      ]
    },
    {
      "cell_type": "code",
      "source": [
        "y.shape"
      ],
      "metadata": {
        "colab": {
          "base_uri": "https://localhost:8080/"
        },
        "id": "xN9D6-HtUHmr",
        "outputId": "0a79bd3e-5a22-49eb-8b3d-30a9cafd0285"
      },
      "execution_count": null,
      "outputs": [
        {
          "output_type": "execute_result",
          "data": {
            "text/plain": [
              "(571,)"
            ]
          },
          "metadata": {},
          "execution_count": 120
        }
      ]
    },
    {
      "cell_type": "code",
      "source": [
        "from sklearn.model_selection import train_test_split\n",
        "x_train,x_test,y_train,y_test=train_test_split(x,y,test_size=0.2,random_state=2) #test_size=0.2 is 20% testing data"
      ],
      "metadata": {
        "id": "coI70LBXUIr8"
      },
      "execution_count": null,
      "outputs": []
    },
    {
      "cell_type": "code",
      "source": [
        "x_test"
      ],
      "metadata": {
        "colab": {
          "base_uri": "https://localhost:8080/"
        },
        "id": "FB8f6k8sULhI",
        "outputId": "d96cb734-3356-4d3a-cde6-d63259126df3"
      },
      "execution_count": null,
      "outputs": [
        {
          "output_type": "execute_result",
          "data": {
            "text/plain": [
              "array([[ 0.37,  0.51, 11.8 ],\n",
              "       [ 0.32,  0.45, 10.9 ],\n",
              "       [ 0.39,  0.77, 12.2 ],\n",
              "       [ 0.03,  0.62,  9.6 ],\n",
              "       [ 0.44,  0.34, 11.2 ],\n",
              "       [ 0.29,  0.64, 10.6 ],\n",
              "       [ 0.38,  0.82, 10.  ],\n",
              "       [ 0.49,  0.36, 11.  ],\n",
              "       [ 0.05,  0.52, 10.  ],\n",
              "       [ 0.22,  0.87, 11.9 ],\n",
              "       [ 0.49,  0.53, 10.2 ],\n",
              "       [ 0.32,  0.65,  9.6 ],\n",
              "       [ 0.1 ,  0.69, 10.7 ],\n",
              "       [ 0.58,  0.88, 10.3 ],\n",
              "       [ 0.26,  0.44,  9.3 ],\n",
              "       [ 0.  ,  0.37, 10.1 ],\n",
              "       [ 0.  ,  0.34,  9.4 ],\n",
              "       [ 0.27,  0.59, 12.5 ],\n",
              "       [ 0.03,  0.5 , 10.8 ],\n",
              "       [ 0.  ,  0.47,  9.4 ],\n",
              "       [ 0.02,  0.63,  9.95],\n",
              "       [ 0.46,  0.85, 10.9 ],\n",
              "       [ 0.47,  0.34, 10.6 ],\n",
              "       [ 0.36,  0.38, 10.9 ],\n",
              "       [ 0.36,  0.32, 12.3 ],\n",
              "       [ 0.36,  0.4 , 12.3 ],\n",
              "       [ 0.63,  0.78, 12.5 ],\n",
              "       [ 0.16,  0.36, 12.  ],\n",
              "       [ 0.66,  0.57,  8.3 ],\n",
              "       [ 0.42,  0.65, 11.3 ],\n",
              "       [ 0.25,  0.44, 10.4 ],\n",
              "       [ 0.14,  0.34,  9.5 ],\n",
              "       [ 0.29,  0.5 , 11.  ],\n",
              "       [ 0.45,  0.59, 10.7 ],\n",
              "       [ 0.27,  0.48,  9.8 ],\n",
              "       [ 0.12,  0.71, 11.2 ],\n",
              "       [ 0.29,  0.38, 10.2 ],\n",
              "       [ 0.3 ,  0.67,  9.1 ],\n",
              "       [ 0.66,  0.74, 10.9 ],\n",
              "       [ 0.14,  0.36,  9.6 ],\n",
              "       [ 0.18,  0.87, 12.3 ],\n",
              "       [ 0.88,  0.51,  9.9 ],\n",
              "       [ 0.16,  0.47, 12.7 ],\n",
              "       [ 0.02,  0.71, 11.  ],\n",
              "       [ 0.32,  0.71, 12.3 ],\n",
              "       [ 0.32,  0.33, 11.9 ],\n",
              "       [ 0.04,  0.33, 12.3 ],\n",
              "       [ 0.39,  0.71, 11.1 ],\n",
              "       [ 0.  ,  0.55, 11.3 ],\n",
              "       [ 0.31,  0.39, 12.3 ],\n",
              "       [ 0.31,  0.76, 11.3 ],\n",
              "       [ 0.37,  0.39, 11.7 ],\n",
              "       [ 0.31,  0.58, 11.3 ],\n",
              "       [ 0.36,  0.57, 10.6 ],\n",
              "       [ 0.39,  0.82, 10.4 ],\n",
              "       [ 0.39,  0.28, 10.4 ],\n",
              "       [ 0.02,  0.35,  9.9 ],\n",
              "       [ 0.2 ,  0.54,  9.3 ],\n",
              "       [ 0.44,  0.84,  8.6 ],\n",
              "       [ 0.33,  0.84, 11.6 ],\n",
              "       [ 0.46,  0.49, 10.4 ],\n",
              "       [ 0.03,  0.56, 11.6 ],\n",
              "       [ 0.26,  0.37,  9.9 ],\n",
              "       [ 0.  ,  0.49,  9.  ],\n",
              "       [ 0.32,  0.73, 11.  ],\n",
              "       [ 0.68,  1.08,  9.6 ],\n",
              "       [ 0.3 ,  0.46,  8.9 ],\n",
              "       [ 0.24,  0.32,  9.3 ],\n",
              "       [ 0.32,  0.33, 12.2 ],\n",
              "       [ 0.19,  0.64,  9.9 ],\n",
              "       [ 0.53,  1.13, 12.  ],\n",
              "       [ 0.44,  0.57,  9.4 ],\n",
              "       [ 0.28,  0.64, 10.7 ],\n",
              "       [ 0.54,  0.76,  9.8 ],\n",
              "       [ 0.49,  0.34, 10.5 ],\n",
              "       [ 0.35,  0.57,  9.3 ],\n",
              "       [ 0.66,  0.73,  9.3 ],\n",
              "       [ 0.52,  0.72,  9.7 ],\n",
              "       [ 0.42,  1.05, 10.4 ],\n",
              "       [ 0.23,  0.55, 11.7 ],\n",
              "       [ 0.45,  0.55, 11.7 ],\n",
              "       [ 0.22,  0.64, 11.2 ],\n",
              "       [ 0.27,  0.41,  9.  ],\n",
              "       [ 0.6 ,  0.59, 10.4 ],\n",
              "       [ 0.2 ,  0.28, 11.6 ],\n",
              "       [ 0.32,  0.65, 10.  ],\n",
              "       [ 0.34,  0.86, 10.2 ],\n",
              "       [ 0.5 ,  0.6 ,  9.8 ],\n",
              "       [ 0.31,  0.55, 11.4 ],\n",
              "       [ 0.07,  0.68, 10.6 ],\n",
              "       [ 0.36,  1.01, 12.  ],\n",
              "       [ 0.22,  0.86, 12.1 ],\n",
              "       [ 0.35,  0.63, 11.4 ],\n",
              "       [ 0.75,  0.68, 11.4 ],\n",
              "       [ 0.54,  0.57, 10.2 ],\n",
              "       [ 0.54,  0.49,  8.9 ],\n",
              "       [ 0.02,  0.89, 12.1 ],\n",
              "       [ 0.39,  0.57, 11.3 ],\n",
              "       [ 0.31,  0.34, 12.2 ],\n",
              "       [ 0.22,  0.31, 11.2 ],\n",
              "       [ 0.32,  0.77, 10.  ],\n",
              "       [ 0.03,  0.33,  8.8 ],\n",
              "       [ 0.37,  0.8 , 12.1 ],\n",
              "       [ 0.35,  0.74, 11.4 ],\n",
              "       [ 0.49,  0.52, 12.1 ],\n",
              "       [ 0.  ,  0.94, 12.5 ],\n",
              "       [ 0.24,  0.53,  9.7 ],\n",
              "       [ 0.31,  0.44, 12.5 ],\n",
              "       [ 0.24,  0.58, 11.  ],\n",
              "       [ 0.27,  0.4 , 12.  ],\n",
              "       [ 0.39,  0.43, 12.5 ],\n",
              "       [ 0.2 ,  1.12,  8.9 ],\n",
              "       [ 0.49,  0.53,  9.1 ],\n",
              "       [ 0.45,  0.46, 10.5 ],\n",
              "       [ 0.34,  0.32, 12.7 ]])"
            ]
          },
          "metadata": {},
          "execution_count": 122
        }
      ]
    },
    {
      "cell_type": "code",
      "source": [
        "x_test.shape"
      ],
      "metadata": {
        "colab": {
          "base_uri": "https://localhost:8080/"
        },
        "id": "cvTy2TjcUO_0",
        "outputId": "97620002-349e-4c1a-9ce0-8e6fefc1e6f7"
      },
      "execution_count": null,
      "outputs": [
        {
          "output_type": "execute_result",
          "data": {
            "text/plain": [
              "(115, 3)"
            ]
          },
          "metadata": {},
          "execution_count": 123
        }
      ]
    },
    {
      "cell_type": "code",
      "source": [
        "x_train.shape"
      ],
      "metadata": {
        "colab": {
          "base_uri": "https://localhost:8080/"
        },
        "id": "aloYsCyJUUCp",
        "outputId": "5d7f4934-cc4e-4106-af1c-baaf11474d74"
      },
      "execution_count": null,
      "outputs": [
        {
          "output_type": "execute_result",
          "data": {
            "text/plain": [
              "(456, 3)"
            ]
          },
          "metadata": {},
          "execution_count": 124
        }
      ]
    },
    {
      "cell_type": "code",
      "source": [
        "from sklearn.linear_model import LogisticRegression\n",
        "logreg=LogisticRegression()\n",
        "logreg.fit(x_train,y_train)\n"
      ],
      "metadata": {
        "colab": {
          "base_uri": "https://localhost:8080/"
        },
        "id": "-EMf0iklUWfo",
        "outputId": "e9df320d-ef9b-41de-a230-7c6749534b79"
      },
      "execution_count": null,
      "outputs": [
        {
          "output_type": "execute_result",
          "data": {
            "text/plain": [
              "LogisticRegression()"
            ]
          },
          "metadata": {},
          "execution_count": 125
        }
      ]
    },
    {
      "cell_type": "code",
      "source": [
        "ypred=logreg.predict(x_test)"
      ],
      "metadata": {
        "id": "d_ZNdA_VUZ9q"
      },
      "execution_count": null,
      "outputs": []
    },
    {
      "cell_type": "code",
      "source": [
        "ypred"
      ],
      "metadata": {
        "colab": {
          "base_uri": "https://localhost:8080/"
        },
        "id": "3YjQmy0ZUcol",
        "outputId": "522bb2aa-7989-4b2c-889a-548fef753bac"
      },
      "execution_count": null,
      "outputs": [
        {
          "output_type": "execute_result",
          "data": {
            "text/plain": [
              "array([0, 0, 1, 1, 0, 1, 1, 0, 0, 1, 0, 1, 1, 1, 0, 0, 0, 0, 0, 0, 1, 1,\n",
              "       0, 0, 0, 0, 1, 0, 0, 1, 0, 0, 0, 0, 0, 1, 0, 1, 1, 0, 1, 0, 0, 1,\n",
              "       1, 0, 0, 1, 0, 0, 1, 0, 0, 0, 1, 0, 0, 0, 1, 1, 0, 0, 0, 0, 1, 1,\n",
              "       0, 0, 0, 1, 1, 0, 1, 1, 0, 0, 1, 1, 1, 0, 0, 1, 0, 0, 0, 1, 1, 0,\n",
              "       0, 1, 1, 1, 1, 1, 0, 0, 1, 0, 0, 0, 1, 0, 1, 1, 0, 1, 0, 0, 0, 0,\n",
              "       0, 1, 0, 0, 0])"
            ]
          },
          "metadata": {},
          "execution_count": 127
        }
      ]
    },
    {
      "cell_type": "code",
      "source": [
        "y_test"
      ],
      "metadata": {
        "colab": {
          "base_uri": "https://localhost:8080/"
        },
        "id": "iX1d5OI8UfQO",
        "outputId": "35802f20-4d80-4395-df56-2307d5bdc759"
      },
      "execution_count": null,
      "outputs": [
        {
          "output_type": "execute_result",
          "data": {
            "text/plain": [
              "array([0, 0, 1, 1, 0, 0, 1, 0, 1, 0, 0, 1, 1, 1, 0, 1, 0, 0, 1, 1, 1, 1,\n",
              "       0, 0, 0, 0, 1, 0, 1, 0, 0, 0, 0, 0, 1, 1, 0, 0, 1, 0, 1, 0, 0, 1,\n",
              "       0, 0, 0, 1, 1, 0, 1, 0, 0, 0, 1, 0, 0, 0, 1, 1, 0, 1, 0, 1, 1, 1,\n",
              "       0, 0, 0, 0, 1, 0, 0, 1, 0, 0, 1, 1, 1, 0, 1, 1, 0, 0, 0, 1, 1, 1,\n",
              "       0, 1, 1, 0, 0, 1, 1, 0, 1, 1, 0, 0, 1, 1, 1, 1, 1, 1, 0, 0, 1, 0,\n",
              "       0, 1, 0, 0, 0])"
            ]
          },
          "metadata": {},
          "execution_count": 128
        }
      ]
    },
    {
      "cell_type": "code",
      "source": [
        "x_test"
      ],
      "metadata": {
        "colab": {
          "base_uri": "https://localhost:8080/"
        },
        "id": "Vvb8q0_4Uk2a",
        "outputId": "7c1cf8d0-e167-4f0b-8549-c6eedd1300a3"
      },
      "execution_count": null,
      "outputs": [
        {
          "output_type": "execute_result",
          "data": {
            "text/plain": [
              "array([[ 0.37,  0.51, 11.8 ],\n",
              "       [ 0.32,  0.45, 10.9 ],\n",
              "       [ 0.39,  0.77, 12.2 ],\n",
              "       [ 0.03,  0.62,  9.6 ],\n",
              "       [ 0.44,  0.34, 11.2 ],\n",
              "       [ 0.29,  0.64, 10.6 ],\n",
              "       [ 0.38,  0.82, 10.  ],\n",
              "       [ 0.49,  0.36, 11.  ],\n",
              "       [ 0.05,  0.52, 10.  ],\n",
              "       [ 0.22,  0.87, 11.9 ],\n",
              "       [ 0.49,  0.53, 10.2 ],\n",
              "       [ 0.32,  0.65,  9.6 ],\n",
              "       [ 0.1 ,  0.69, 10.7 ],\n",
              "       [ 0.58,  0.88, 10.3 ],\n",
              "       [ 0.26,  0.44,  9.3 ],\n",
              "       [ 0.  ,  0.37, 10.1 ],\n",
              "       [ 0.  ,  0.34,  9.4 ],\n",
              "       [ 0.27,  0.59, 12.5 ],\n",
              "       [ 0.03,  0.5 , 10.8 ],\n",
              "       [ 0.  ,  0.47,  9.4 ],\n",
              "       [ 0.02,  0.63,  9.95],\n",
              "       [ 0.46,  0.85, 10.9 ],\n",
              "       [ 0.47,  0.34, 10.6 ],\n",
              "       [ 0.36,  0.38, 10.9 ],\n",
              "       [ 0.36,  0.32, 12.3 ],\n",
              "       [ 0.36,  0.4 , 12.3 ],\n",
              "       [ 0.63,  0.78, 12.5 ],\n",
              "       [ 0.16,  0.36, 12.  ],\n",
              "       [ 0.66,  0.57,  8.3 ],\n",
              "       [ 0.42,  0.65, 11.3 ],\n",
              "       [ 0.25,  0.44, 10.4 ],\n",
              "       [ 0.14,  0.34,  9.5 ],\n",
              "       [ 0.29,  0.5 , 11.  ],\n",
              "       [ 0.45,  0.59, 10.7 ],\n",
              "       [ 0.27,  0.48,  9.8 ],\n",
              "       [ 0.12,  0.71, 11.2 ],\n",
              "       [ 0.29,  0.38, 10.2 ],\n",
              "       [ 0.3 ,  0.67,  9.1 ],\n",
              "       [ 0.66,  0.74, 10.9 ],\n",
              "       [ 0.14,  0.36,  9.6 ],\n",
              "       [ 0.18,  0.87, 12.3 ],\n",
              "       [ 0.88,  0.51,  9.9 ],\n",
              "       [ 0.16,  0.47, 12.7 ],\n",
              "       [ 0.02,  0.71, 11.  ],\n",
              "       [ 0.32,  0.71, 12.3 ],\n",
              "       [ 0.32,  0.33, 11.9 ],\n",
              "       [ 0.04,  0.33, 12.3 ],\n",
              "       [ 0.39,  0.71, 11.1 ],\n",
              "       [ 0.  ,  0.55, 11.3 ],\n",
              "       [ 0.31,  0.39, 12.3 ],\n",
              "       [ 0.31,  0.76, 11.3 ],\n",
              "       [ 0.37,  0.39, 11.7 ],\n",
              "       [ 0.31,  0.58, 11.3 ],\n",
              "       [ 0.36,  0.57, 10.6 ],\n",
              "       [ 0.39,  0.82, 10.4 ],\n",
              "       [ 0.39,  0.28, 10.4 ],\n",
              "       [ 0.02,  0.35,  9.9 ],\n",
              "       [ 0.2 ,  0.54,  9.3 ],\n",
              "       [ 0.44,  0.84,  8.6 ],\n",
              "       [ 0.33,  0.84, 11.6 ],\n",
              "       [ 0.46,  0.49, 10.4 ],\n",
              "       [ 0.03,  0.56, 11.6 ],\n",
              "       [ 0.26,  0.37,  9.9 ],\n",
              "       [ 0.  ,  0.49,  9.  ],\n",
              "       [ 0.32,  0.73, 11.  ],\n",
              "       [ 0.68,  1.08,  9.6 ],\n",
              "       [ 0.3 ,  0.46,  8.9 ],\n",
              "       [ 0.24,  0.32,  9.3 ],\n",
              "       [ 0.32,  0.33, 12.2 ],\n",
              "       [ 0.19,  0.64,  9.9 ],\n",
              "       [ 0.53,  1.13, 12.  ],\n",
              "       [ 0.44,  0.57,  9.4 ],\n",
              "       [ 0.28,  0.64, 10.7 ],\n",
              "       [ 0.54,  0.76,  9.8 ],\n",
              "       [ 0.49,  0.34, 10.5 ],\n",
              "       [ 0.35,  0.57,  9.3 ],\n",
              "       [ 0.66,  0.73,  9.3 ],\n",
              "       [ 0.52,  0.72,  9.7 ],\n",
              "       [ 0.42,  1.05, 10.4 ],\n",
              "       [ 0.23,  0.55, 11.7 ],\n",
              "       [ 0.45,  0.55, 11.7 ],\n",
              "       [ 0.22,  0.64, 11.2 ],\n",
              "       [ 0.27,  0.41,  9.  ],\n",
              "       [ 0.6 ,  0.59, 10.4 ],\n",
              "       [ 0.2 ,  0.28, 11.6 ],\n",
              "       [ 0.32,  0.65, 10.  ],\n",
              "       [ 0.34,  0.86, 10.2 ],\n",
              "       [ 0.5 ,  0.6 ,  9.8 ],\n",
              "       [ 0.31,  0.55, 11.4 ],\n",
              "       [ 0.07,  0.68, 10.6 ],\n",
              "       [ 0.36,  1.01, 12.  ],\n",
              "       [ 0.22,  0.86, 12.1 ],\n",
              "       [ 0.35,  0.63, 11.4 ],\n",
              "       [ 0.75,  0.68, 11.4 ],\n",
              "       [ 0.54,  0.57, 10.2 ],\n",
              "       [ 0.54,  0.49,  8.9 ],\n",
              "       [ 0.02,  0.89, 12.1 ],\n",
              "       [ 0.39,  0.57, 11.3 ],\n",
              "       [ 0.31,  0.34, 12.2 ],\n",
              "       [ 0.22,  0.31, 11.2 ],\n",
              "       [ 0.32,  0.77, 10.  ],\n",
              "       [ 0.03,  0.33,  8.8 ],\n",
              "       [ 0.37,  0.8 , 12.1 ],\n",
              "       [ 0.35,  0.74, 11.4 ],\n",
              "       [ 0.49,  0.52, 12.1 ],\n",
              "       [ 0.  ,  0.94, 12.5 ],\n",
              "       [ 0.24,  0.53,  9.7 ],\n",
              "       [ 0.31,  0.44, 12.5 ],\n",
              "       [ 0.24,  0.58, 11.  ],\n",
              "       [ 0.27,  0.4 , 12.  ],\n",
              "       [ 0.39,  0.43, 12.5 ],\n",
              "       [ 0.2 ,  1.12,  8.9 ],\n",
              "       [ 0.49,  0.53,  9.1 ],\n",
              "       [ 0.45,  0.46, 10.5 ],\n",
              "       [ 0.34,  0.32, 12.7 ]])"
            ]
          },
          "metadata": {},
          "execution_count": 129
        }
      ]
    },
    {
      "cell_type": "code",
      "source": [
        "from sklearn.metrics import accuracy_score\n",
        "accuracy=accuracy_score(ypred,y_test)"
      ],
      "metadata": {
        "id": "kPstxOewUnoC"
      },
      "execution_count": null,
      "outputs": []
    },
    {
      "cell_type": "code",
      "source": [
        "accuracy"
      ],
      "metadata": {
        "colab": {
          "base_uri": "https://localhost:8080/"
        },
        "id": "hjkgohXSUqZt",
        "outputId": "f350e733-6f1c-47c0-e717-a41d5a8315d5"
      },
      "execution_count": null,
      "outputs": [
        {
          "output_type": "execute_result",
          "data": {
            "text/plain": [
              "0.782608695652174"
            ]
          },
          "metadata": {},
          "execution_count": 131
        }
      ]
    },
    {
      "cell_type": "code",
      "source": [
        "dataset.head()"
      ],
      "metadata": {
        "colab": {
          "base_uri": "https://localhost:8080/",
          "height": 206
        },
        "id": "MD1gFm1eUs-i",
        "outputId": "d7a19772-bbe6-4bc7-abcf-8251181d984f"
      },
      "execution_count": null,
      "outputs": [
        {
          "output_type": "execute_result",
          "data": {
            "text/plain": [
              "   citric acid  sulphates  alcohol  type\n",
              "0         0.49       0.63      8.0   low\n",
              "1         0.66       0.57      8.3   low\n",
              "2         0.23       0.44      8.5  high\n",
              "3         0.44       0.84      8.6   low\n",
              "4         0.08       0.50      8.7   low"
            ],
            "text/html": [
              "\n",
              "  <div id=\"df-7dcd3553-e73d-4b35-9f18-2081af59b06c\">\n",
              "    <div class=\"colab-df-container\">\n",
              "      <div>\n",
              "<style scoped>\n",
              "    .dataframe tbody tr th:only-of-type {\n",
              "        vertical-align: middle;\n",
              "    }\n",
              "\n",
              "    .dataframe tbody tr th {\n",
              "        vertical-align: top;\n",
              "    }\n",
              "\n",
              "    .dataframe thead th {\n",
              "        text-align: right;\n",
              "    }\n",
              "</style>\n",
              "<table border=\"1\" class=\"dataframe\">\n",
              "  <thead>\n",
              "    <tr style=\"text-align: right;\">\n",
              "      <th></th>\n",
              "      <th>citric acid</th>\n",
              "      <th>sulphates</th>\n",
              "      <th>alcohol</th>\n",
              "      <th>type</th>\n",
              "    </tr>\n",
              "  </thead>\n",
              "  <tbody>\n",
              "    <tr>\n",
              "      <th>0</th>\n",
              "      <td>0.49</td>\n",
              "      <td>0.63</td>\n",
              "      <td>8.0</td>\n",
              "      <td>low</td>\n",
              "    </tr>\n",
              "    <tr>\n",
              "      <th>1</th>\n",
              "      <td>0.66</td>\n",
              "      <td>0.57</td>\n",
              "      <td>8.3</td>\n",
              "      <td>low</td>\n",
              "    </tr>\n",
              "    <tr>\n",
              "      <th>2</th>\n",
              "      <td>0.23</td>\n",
              "      <td>0.44</td>\n",
              "      <td>8.5</td>\n",
              "      <td>high</td>\n",
              "    </tr>\n",
              "    <tr>\n",
              "      <th>3</th>\n",
              "      <td>0.44</td>\n",
              "      <td>0.84</td>\n",
              "      <td>8.6</td>\n",
              "      <td>low</td>\n",
              "    </tr>\n",
              "    <tr>\n",
              "      <th>4</th>\n",
              "      <td>0.08</td>\n",
              "      <td>0.50</td>\n",
              "      <td>8.7</td>\n",
              "      <td>low</td>\n",
              "    </tr>\n",
              "  </tbody>\n",
              "</table>\n",
              "</div>\n",
              "      <button class=\"colab-df-convert\" onclick=\"convertToInteractive('df-7dcd3553-e73d-4b35-9f18-2081af59b06c')\"\n",
              "              title=\"Convert this dataframe to an interactive table.\"\n",
              "              style=\"display:none;\">\n",
              "        \n",
              "  <svg xmlns=\"http://www.w3.org/2000/svg\" height=\"24px\"viewBox=\"0 0 24 24\"\n",
              "       width=\"24px\">\n",
              "    <path d=\"M0 0h24v24H0V0z\" fill=\"none\"/>\n",
              "    <path d=\"M18.56 5.44l.94 2.06.94-2.06 2.06-.94-2.06-.94-.94-2.06-.94 2.06-2.06.94zm-11 1L8.5 8.5l.94-2.06 2.06-.94-2.06-.94L8.5 2.5l-.94 2.06-2.06.94zm10 10l.94 2.06.94-2.06 2.06-.94-2.06-.94-.94-2.06-.94 2.06-2.06.94z\"/><path d=\"M17.41 7.96l-1.37-1.37c-.4-.4-.92-.59-1.43-.59-.52 0-1.04.2-1.43.59L10.3 9.45l-7.72 7.72c-.78.78-.78 2.05 0 2.83L4 21.41c.39.39.9.59 1.41.59.51 0 1.02-.2 1.41-.59l7.78-7.78 2.81-2.81c.8-.78.8-2.07 0-2.86zM5.41 20L4 18.59l7.72-7.72 1.47 1.35L5.41 20z\"/>\n",
              "  </svg>\n",
              "      </button>\n",
              "      \n",
              "  <style>\n",
              "    .colab-df-container {\n",
              "      display:flex;\n",
              "      flex-wrap:wrap;\n",
              "      gap: 12px;\n",
              "    }\n",
              "\n",
              "    .colab-df-convert {\n",
              "      background-color: #E8F0FE;\n",
              "      border: none;\n",
              "      border-radius: 50%;\n",
              "      cursor: pointer;\n",
              "      display: none;\n",
              "      fill: #1967D2;\n",
              "      height: 32px;\n",
              "      padding: 0 0 0 0;\n",
              "      width: 32px;\n",
              "    }\n",
              "\n",
              "    .colab-df-convert:hover {\n",
              "      background-color: #E2EBFA;\n",
              "      box-shadow: 0px 1px 2px rgba(60, 64, 67, 0.3), 0px 1px 3px 1px rgba(60, 64, 67, 0.15);\n",
              "      fill: #174EA6;\n",
              "    }\n",
              "\n",
              "    [theme=dark] .colab-df-convert {\n",
              "      background-color: #3B4455;\n",
              "      fill: #D2E3FC;\n",
              "    }\n",
              "\n",
              "    [theme=dark] .colab-df-convert:hover {\n",
              "      background-color: #434B5C;\n",
              "      box-shadow: 0px 1px 3px 1px rgba(0, 0, 0, 0.15);\n",
              "      filter: drop-shadow(0px 1px 2px rgba(0, 0, 0, 0.3));\n",
              "      fill: #FFFFFF;\n",
              "    }\n",
              "  </style>\n",
              "\n",
              "      <script>\n",
              "        const buttonEl =\n",
              "          document.querySelector('#df-7dcd3553-e73d-4b35-9f18-2081af59b06c button.colab-df-convert');\n",
              "        buttonEl.style.display =\n",
              "          google.colab.kernel.accessAllowed ? 'block' : 'none';\n",
              "\n",
              "        async function convertToInteractive(key) {\n",
              "          const element = document.querySelector('#df-7dcd3553-e73d-4b35-9f18-2081af59b06c');\n",
              "          const dataTable =\n",
              "            await google.colab.kernel.invokeFunction('convertToInteractive',\n",
              "                                                     [key], {});\n",
              "          if (!dataTable) return;\n",
              "\n",
              "          const docLinkHtml = 'Like what you see? Visit the ' +\n",
              "            '<a target=\"_blank\" href=https://colab.research.google.com/notebooks/data_table.ipynb>data table notebook</a>'\n",
              "            + ' to learn more about interactive tables.';\n",
              "          element.innerHTML = '';\n",
              "          dataTable['output_type'] = 'display_data';\n",
              "          await google.colab.output.renderOutput(dataTable, element);\n",
              "          const docLink = document.createElement('div');\n",
              "          docLink.innerHTML = docLinkHtml;\n",
              "          element.appendChild(docLink);\n",
              "        }\n",
              "      </script>\n",
              "    </div>\n",
              "  </div>\n",
              "  "
            ]
          },
          "metadata": {},
          "execution_count": 132
        }
      ]
    },
    {
      "cell_type": "code",
      "source": [
        "logreg.predict([[0.49,0.63,8.0]])"
      ],
      "metadata": {
        "colab": {
          "base_uri": "https://localhost:8080/"
        },
        "id": "VlG21YjUUw04",
        "outputId": "df3dde4c-8ab9-41ad-a6c6-8827777fb565"
      },
      "execution_count": null,
      "outputs": [
        {
          "output_type": "execute_result",
          "data": {
            "text/plain": [
              "array([1])"
            ]
          },
          "metadata": {},
          "execution_count": 133
        }
      ]
    },
    {
      "cell_type": "code",
      "source": [
        "logreg.predict([[0.63,0.57,8.3]])"
      ],
      "metadata": {
        "colab": {
          "base_uri": "https://localhost:8080/"
        },
        "id": "7pXMVyIjVBHu",
        "outputId": "4f6dec91-8f30-4bdb-fc5b-980c7c9bf01d"
      },
      "execution_count": null,
      "outputs": [
        {
          "output_type": "execute_result",
          "data": {
            "text/plain": [
              "array([0])"
            ]
          },
          "metadata": {},
          "execution_count": 134
        }
      ]
    },
    {
      "cell_type": "code",
      "source": [
        "from sklearn.tree import DecisionTreeClassifier\n",
        "dt=DecisionTreeClassifier(criterion=\"entropy\",random_state=0)\n",
        "dt.fit(x_train,y_train)"
      ],
      "metadata": {
        "colab": {
          "base_uri": "https://localhost:8080/"
        },
        "id": "Aqe5MIlEVNBG",
        "outputId": "0fbcdd18-9302-437d-f3a8-f2e001b04912"
      },
      "execution_count": null,
      "outputs": [
        {
          "output_type": "execute_result",
          "data": {
            "text/plain": [
              "DecisionTreeClassifier(criterion='entropy', random_state=0)"
            ]
          },
          "metadata": {},
          "execution_count": 135
        }
      ]
    },
    {
      "cell_type": "code",
      "source": [
        "dtpred=dt.predict(x_test)"
      ],
      "metadata": {
        "id": "V-IGFcRhV9yI"
      },
      "execution_count": null,
      "outputs": []
    },
    {
      "cell_type": "code",
      "source": [
        "dtpred"
      ],
      "metadata": {
        "colab": {
          "base_uri": "https://localhost:8080/"
        },
        "id": "Bpnaew-dWAHa",
        "outputId": "b2f9f816-4e4f-41b4-c864-41cdb8a81785"
      },
      "execution_count": null,
      "outputs": [
        {
          "output_type": "execute_result",
          "data": {
            "text/plain": [
              "array([0, 0, 1, 1, 0, 0, 1, 0, 1, 1, 0, 1, 1, 1, 0, 0, 0, 0, 1, 0, 1, 1,\n",
              "       0, 0, 0, 0, 1, 0, 0, 1, 0, 0, 0, 0, 0, 1, 0, 0, 1, 0, 1, 0, 0, 1,\n",
              "       0, 0, 0, 1, 1, 1, 1, 0, 0, 1, 1, 0, 0, 1, 1, 1, 0, 1, 0, 1, 1, 1,\n",
              "       0, 0, 0, 0, 1, 1, 0, 1, 0, 1, 1, 1, 1, 0, 1, 0, 0, 0, 0, 1, 1, 0,\n",
              "       0, 1, 0, 0, 0, 1, 0, 0, 1, 1, 0, 0, 0, 0, 0, 1, 1, 1, 1, 0, 0, 0,\n",
              "       0, 1, 0, 0, 0])"
            ]
          },
          "metadata": {},
          "execution_count": 137
        }
      ]
    },
    {
      "cell_type": "code",
      "source": [
        "y_test"
      ],
      "metadata": {
        "colab": {
          "base_uri": "https://localhost:8080/"
        },
        "id": "fEIlAvp8WCUm",
        "outputId": "c1dfdd5a-9641-4e18-a10d-e00e2b613ad6"
      },
      "execution_count": null,
      "outputs": [
        {
          "output_type": "execute_result",
          "data": {
            "text/plain": [
              "array([0, 0, 1, 1, 0, 0, 1, 0, 1, 0, 0, 1, 1, 1, 0, 1, 0, 0, 1, 1, 1, 1,\n",
              "       0, 0, 0, 0, 1, 0, 1, 0, 0, 0, 0, 0, 1, 1, 0, 0, 1, 0, 1, 0, 0, 1,\n",
              "       0, 0, 0, 1, 1, 0, 1, 0, 0, 0, 1, 0, 0, 0, 1, 1, 0, 1, 0, 1, 1, 1,\n",
              "       0, 0, 0, 0, 1, 0, 0, 1, 0, 0, 1, 1, 1, 0, 1, 1, 0, 0, 0, 1, 1, 1,\n",
              "       0, 1, 1, 0, 0, 1, 1, 0, 1, 1, 0, 0, 1, 1, 1, 1, 1, 1, 0, 0, 1, 0,\n",
              "       0, 1, 0, 0, 0])"
            ]
          },
          "metadata": {},
          "execution_count": 138
        }
      ]
    },
    {
      "cell_type": "code",
      "source": [
        "from sklearn.metrics import accuracy_score,confusion_matrix\n",
        "dtaccuracy=accuracy_score(y_test,dtpred)\n",
        "dtcm=confusion_matrix(y_test,dtpred)"
      ],
      "metadata": {
        "id": "M2vS1PrmWFU6"
      },
      "execution_count": null,
      "outputs": []
    },
    {
      "cell_type": "code",
      "source": [
        "dtaccuracy"
      ],
      "metadata": {
        "colab": {
          "base_uri": "https://localhost:8080/"
        },
        "id": "54YyAqy5WJeS",
        "outputId": "2b0556d4-4c41-44d4-c0e6-ef717b66c782"
      },
      "execution_count": null,
      "outputs": [
        {
          "output_type": "execute_result",
          "data": {
            "text/plain": [
              "0.8260869565217391"
            ]
          },
          "metadata": {},
          "execution_count": 140
        }
      ]
    },
    {
      "cell_type": "code",
      "source": [
        "dtcm"
      ],
      "metadata": {
        "colab": {
          "base_uri": "https://localhost:8080/"
        },
        "id": "JiPMBGPWWLit",
        "outputId": "74d0f3fc-3ba0-425d-bdb4-9469087a73a0"
      },
      "execution_count": null,
      "outputs": [
        {
          "output_type": "execute_result",
          "data": {
            "text/plain": [
              "array([[54,  8],\n",
              "       [12, 41]])"
            ]
          },
          "metadata": {},
          "execution_count": 141
        }
      ]
    },
    {
      "cell_type": "code",
      "source": [
        "dataset.head()"
      ],
      "metadata": {
        "colab": {
          "base_uri": "https://localhost:8080/",
          "height": 206
        },
        "id": "t0IzQDJ-W13d",
        "outputId": "45dfd61d-a010-489a-b380-5173ff114bfa"
      },
      "execution_count": null,
      "outputs": [
        {
          "output_type": "execute_result",
          "data": {
            "text/plain": [
              "   citric acid  sulphates  alcohol  type\n",
              "0         0.49       0.63      8.0   low\n",
              "1         0.66       0.57      8.3   low\n",
              "2         0.23       0.44      8.5  high\n",
              "3         0.44       0.84      8.6   low\n",
              "4         0.08       0.50      8.7   low"
            ],
            "text/html": [
              "\n",
              "  <div id=\"df-c345dead-4411-47e5-8272-58ea43a4ff9d\">\n",
              "    <div class=\"colab-df-container\">\n",
              "      <div>\n",
              "<style scoped>\n",
              "    .dataframe tbody tr th:only-of-type {\n",
              "        vertical-align: middle;\n",
              "    }\n",
              "\n",
              "    .dataframe tbody tr th {\n",
              "        vertical-align: top;\n",
              "    }\n",
              "\n",
              "    .dataframe thead th {\n",
              "        text-align: right;\n",
              "    }\n",
              "</style>\n",
              "<table border=\"1\" class=\"dataframe\">\n",
              "  <thead>\n",
              "    <tr style=\"text-align: right;\">\n",
              "      <th></th>\n",
              "      <th>citric acid</th>\n",
              "      <th>sulphates</th>\n",
              "      <th>alcohol</th>\n",
              "      <th>type</th>\n",
              "    </tr>\n",
              "  </thead>\n",
              "  <tbody>\n",
              "    <tr>\n",
              "      <th>0</th>\n",
              "      <td>0.49</td>\n",
              "      <td>0.63</td>\n",
              "      <td>8.0</td>\n",
              "      <td>low</td>\n",
              "    </tr>\n",
              "    <tr>\n",
              "      <th>1</th>\n",
              "      <td>0.66</td>\n",
              "      <td>0.57</td>\n",
              "      <td>8.3</td>\n",
              "      <td>low</td>\n",
              "    </tr>\n",
              "    <tr>\n",
              "      <th>2</th>\n",
              "      <td>0.23</td>\n",
              "      <td>0.44</td>\n",
              "      <td>8.5</td>\n",
              "      <td>high</td>\n",
              "    </tr>\n",
              "    <tr>\n",
              "      <th>3</th>\n",
              "      <td>0.44</td>\n",
              "      <td>0.84</td>\n",
              "      <td>8.6</td>\n",
              "      <td>low</td>\n",
              "    </tr>\n",
              "    <tr>\n",
              "      <th>4</th>\n",
              "      <td>0.08</td>\n",
              "      <td>0.50</td>\n",
              "      <td>8.7</td>\n",
              "      <td>low</td>\n",
              "    </tr>\n",
              "  </tbody>\n",
              "</table>\n",
              "</div>\n",
              "      <button class=\"colab-df-convert\" onclick=\"convertToInteractive('df-c345dead-4411-47e5-8272-58ea43a4ff9d')\"\n",
              "              title=\"Convert this dataframe to an interactive table.\"\n",
              "              style=\"display:none;\">\n",
              "        \n",
              "  <svg xmlns=\"http://www.w3.org/2000/svg\" height=\"24px\"viewBox=\"0 0 24 24\"\n",
              "       width=\"24px\">\n",
              "    <path d=\"M0 0h24v24H0V0z\" fill=\"none\"/>\n",
              "    <path d=\"M18.56 5.44l.94 2.06.94-2.06 2.06-.94-2.06-.94-.94-2.06-.94 2.06-2.06.94zm-11 1L8.5 8.5l.94-2.06 2.06-.94-2.06-.94L8.5 2.5l-.94 2.06-2.06.94zm10 10l.94 2.06.94-2.06 2.06-.94-2.06-.94-.94-2.06-.94 2.06-2.06.94z\"/><path d=\"M17.41 7.96l-1.37-1.37c-.4-.4-.92-.59-1.43-.59-.52 0-1.04.2-1.43.59L10.3 9.45l-7.72 7.72c-.78.78-.78 2.05 0 2.83L4 21.41c.39.39.9.59 1.41.59.51 0 1.02-.2 1.41-.59l7.78-7.78 2.81-2.81c.8-.78.8-2.07 0-2.86zM5.41 20L4 18.59l7.72-7.72 1.47 1.35L5.41 20z\"/>\n",
              "  </svg>\n",
              "      </button>\n",
              "      \n",
              "  <style>\n",
              "    .colab-df-container {\n",
              "      display:flex;\n",
              "      flex-wrap:wrap;\n",
              "      gap: 12px;\n",
              "    }\n",
              "\n",
              "    .colab-df-convert {\n",
              "      background-color: #E8F0FE;\n",
              "      border: none;\n",
              "      border-radius: 50%;\n",
              "      cursor: pointer;\n",
              "      display: none;\n",
              "      fill: #1967D2;\n",
              "      height: 32px;\n",
              "      padding: 0 0 0 0;\n",
              "      width: 32px;\n",
              "    }\n",
              "\n",
              "    .colab-df-convert:hover {\n",
              "      background-color: #E2EBFA;\n",
              "      box-shadow: 0px 1px 2px rgba(60, 64, 67, 0.3), 0px 1px 3px 1px rgba(60, 64, 67, 0.15);\n",
              "      fill: #174EA6;\n",
              "    }\n",
              "\n",
              "    [theme=dark] .colab-df-convert {\n",
              "      background-color: #3B4455;\n",
              "      fill: #D2E3FC;\n",
              "    }\n",
              "\n",
              "    [theme=dark] .colab-df-convert:hover {\n",
              "      background-color: #434B5C;\n",
              "      box-shadow: 0px 1px 3px 1px rgba(0, 0, 0, 0.15);\n",
              "      filter: drop-shadow(0px 1px 2px rgba(0, 0, 0, 0.3));\n",
              "      fill: #FFFFFF;\n",
              "    }\n",
              "  </style>\n",
              "\n",
              "      <script>\n",
              "        const buttonEl =\n",
              "          document.querySelector('#df-c345dead-4411-47e5-8272-58ea43a4ff9d button.colab-df-convert');\n",
              "        buttonEl.style.display =\n",
              "          google.colab.kernel.accessAllowed ? 'block' : 'none';\n",
              "\n",
              "        async function convertToInteractive(key) {\n",
              "          const element = document.querySelector('#df-c345dead-4411-47e5-8272-58ea43a4ff9d');\n",
              "          const dataTable =\n",
              "            await google.colab.kernel.invokeFunction('convertToInteractive',\n",
              "                                                     [key], {});\n",
              "          if (!dataTable) return;\n",
              "\n",
              "          const docLinkHtml = 'Like what you see? Visit the ' +\n",
              "            '<a target=\"_blank\" href=https://colab.research.google.com/notebooks/data_table.ipynb>data table notebook</a>'\n",
              "            + ' to learn more about interactive tables.';\n",
              "          element.innerHTML = '';\n",
              "          dataTable['output_type'] = 'display_data';\n",
              "          await google.colab.output.renderOutput(dataTable, element);\n",
              "          const docLink = document.createElement('div');\n",
              "          docLink.innerHTML = docLinkHtml;\n",
              "          element.appendChild(docLink);\n",
              "        }\n",
              "      </script>\n",
              "    </div>\n",
              "  </div>\n",
              "  "
            ]
          },
          "metadata": {},
          "execution_count": 142
        }
      ]
    },
    {
      "cell_type": "code",
      "source": [
        "import sklearn.metrics as metrics\n",
        "dtfpr,dttpr,dtthreshold=metrics.roc_curve(y_test,dtpred)\n",
        "dtroc_auc=metrics.auc(dtfpr,dttpr)"
      ],
      "metadata": {
        "id": "U5malC2AWPFb"
      },
      "execution_count": null,
      "outputs": []
    },
    {
      "cell_type": "code",
      "source": [
        "dtroc_auc"
      ],
      "metadata": {
        "colab": {
          "base_uri": "https://localhost:8080/"
        },
        "id": "t1dSZVdmWTGU",
        "outputId": "f9937081-04fa-4c65-e9ed-fac19c19235e"
      },
      "execution_count": null,
      "outputs": [
        {
          "output_type": "execute_result",
          "data": {
            "text/plain": [
              "0.8222763237979306"
            ]
          },
          "metadata": {},
          "execution_count": 144
        }
      ]
    },
    {
      "cell_type": "code",
      "source": [
        "import matplotlib.pyplot as plt\n",
        "plt.plot(dtfpr,dttpr,'b',label='avuc=%0.2f'%dtroc_auc)\n",
        "plt.legend()\n",
        "plt.show()"
      ],
      "metadata": {
        "colab": {
          "base_uri": "https://localhost:8080/",
          "height": 265
        },
        "id": "439uGLT6X6vq",
        "outputId": "9c5fae57-beda-4717-a065-25f41194bffd"
      },
      "execution_count": null,
      "outputs": [
        {
          "output_type": "display_data",
          "data": {
            "text/plain": [
              "<Figure size 432x288 with 1 Axes>"
            ],
            "image/png": "[encoded data removed]"
          },
          "metadata": {
            "needs_background": "light"
          }
        }
      ]
    },
    {
      "cell_type": "code",
      "source": [
        "from sklearn.ensemble import RandomForestClassifier\n",
        "rf=RandomForestClassifier(n_estimators=10,criterion=\"entropy\",random_state=100)\n",
        "rf.fit(x_train,y_train)"
      ],
      "metadata": {
        "colab": {
          "base_uri": "https://localhost:8080/"
        },
        "id": "uylCJW5gX-IP",
        "outputId": "cad16593-c487-4738-a6b3-e0d388853d59"
      },
      "execution_count": null,
      "outputs": [
        {
          "output_type": "execute_result",
          "data": {
            "text/plain": [
              "RandomForestClassifier(criterion='entropy', n_estimators=10, random_state=100)"
            ]
          },
          "metadata": {},
          "execution_count": 146
        }
      ]
    },
    {
      "cell_type": "code",
      "source": [
        "rfpred=rf.predict(x_test)"
      ],
      "metadata": {
        "id": "DBTWJ5jjYBCm"
      },
      "execution_count": null,
      "outputs": []
    },
    {
      "cell_type": "code",
      "source": [
        "rfpred"
      ],
      "metadata": {
        "colab": {
          "base_uri": "https://localhost:8080/"
        },
        "id": "L50QDSW7YDPP",
        "outputId": "223e691d-0598-4d8c-f4ad-c1d56a3d3a64"
      },
      "execution_count": null,
      "outputs": [
        {
          "output_type": "execute_result",
          "data": {
            "text/plain": [
              "array([0, 0, 1, 1, 0, 0, 1, 0, 1, 1, 0, 0, 1, 1, 0, 0, 0, 0, 1, 1, 1, 1,\n",
              "       0, 0, 0, 0, 1, 0, 0, 1, 0, 0, 0, 0, 0, 1, 0, 1, 1, 0, 0, 0, 0, 1,\n",
              "       1, 0, 0, 1, 1, 0, 1, 0, 0, 1, 1, 0, 0, 0, 1, 0, 0, 1, 0, 1, 1, 1,\n",
              "       0, 0, 0, 0, 1, 0, 0, 1, 0, 0, 1, 1, 1, 0, 1, 0, 0, 1, 0, 1, 1, 0,\n",
              "       0, 1, 0, 1, 0, 1, 1, 0, 1, 1, 0, 0, 1, 0, 0, 1, 0, 1, 1, 0, 0, 0,\n",
              "       0, 1, 0, 0, 0])"
            ]
          },
          "metadata": {},
          "execution_count": 148
        }
      ]
    },
    {
      "cell_type": "code",
      "source": [
        "y_test"
      ],
      "metadata": {
        "colab": {
          "base_uri": "https://localhost:8080/"
        },
        "id": "Art3_NneYFtR",
        "outputId": "ce60933c-2747-48ba-f14a-30681e9eb3a4"
      },
      "execution_count": null,
      "outputs": [
        {
          "output_type": "execute_result",
          "data": {
            "text/plain": [
              "array([0, 0, 1, 1, 0, 0, 1, 0, 1, 0, 0, 1, 1, 1, 0, 1, 0, 0, 1, 1, 1, 1,\n",
              "       0, 0, 0, 0, 1, 0, 1, 0, 0, 0, 0, 0, 1, 1, 0, 0, 1, 0, 1, 0, 0, 1,\n",
              "       0, 0, 0, 1, 1, 0, 1, 0, 0, 0, 1, 0, 0, 0, 1, 1, 0, 1, 0, 1, 1, 1,\n",
              "       0, 0, 0, 0, 1, 0, 0, 1, 0, 0, 1, 1, 1, 0, 1, 1, 0, 0, 0, 1, 1, 1,\n",
              "       0, 1, 1, 0, 0, 1, 1, 0, 1, 1, 0, 0, 1, 1, 1, 1, 1, 1, 0, 0, 1, 0,\n",
              "       0, 1, 0, 0, 0])"
            ]
          },
          "metadata": {},
          "execution_count": 149
        }
      ]
    },
    {
      "cell_type": "code",
      "source": [
        "rfaccuracy=accuracy_score(y_test,rfpred)"
      ],
      "metadata": {
        "id": "aauw93KyYIQ4"
      },
      "execution_count": null,
      "outputs": []
    },
    {
      "cell_type": "code",
      "source": [
        "rfaccuracy"
      ],
      "metadata": {
        "colab": {
          "base_uri": "https://localhost:8080/"
        },
        "id": "JVGzcuI0YM8o",
        "outputId": "33017117-bb50-4c23-f894-0a0757be458c"
      },
      "execution_count": null,
      "outputs": [
        {
          "output_type": "execute_result",
          "data": {
            "text/plain": [
              "0.8173913043478261"
            ]
          },
          "metadata": {},
          "execution_count": 151
        }
      ]
    },
    {
      "cell_type": "code",
      "source": [
        "rfcm=confusion_matrix(y_test,rfpred)"
      ],
      "metadata": {
        "id": "NQskRCuTYPxW"
      },
      "execution_count": null,
      "outputs": []
    },
    {
      "cell_type": "code",
      "source": [
        "rfcm"
      ],
      "metadata": {
        "colab": {
          "base_uri": "https://localhost:8080/"
        },
        "id": "IEJNtMbTYS-Y",
        "outputId": "94982efa-325f-456c-e12d-9d5c1f3fe696"
      },
      "execution_count": null,
      "outputs": [
        {
          "output_type": "execute_result",
          "data": {
            "text/plain": [
              "array([[54,  8],\n",
              "       [13, 40]])"
            ]
          },
          "metadata": {},
          "execution_count": 153
        }
      ]
    },
    {
      "cell_type": "code",
      "source": [
        "from sklearn.model_selection import train_test_split\n",
        "x_train,x_test,y_train,y_test=train_test_split(x,y,test_size=0.2,random_state=2) #test_size=0.2 is 20% testing data"
      ],
      "metadata": {
        "id": "4em-_SxdYV3A"
      },
      "execution_count": null,
      "outputs": []
    },
    {
      "cell_type": "code",
      "source": [
        "from sklearn.linear_model import LinearRegression\n",
        "mlr=LinearRegression()\n",
        "mlr.fit(x_train,y_train)"
      ],
      "metadata": {
        "colab": {
          "base_uri": "https://localhost:8080/"
        },
        "id": "ihQbO7FiZH8u",
        "outputId": "c0458bd0-c1cd-4828-ae9a-c9e8267924bd"
      },
      "execution_count": null,
      "outputs": [
        {
          "output_type": "execute_result",
          "data": {
            "text/plain": [
              "LinearRegression()"
            ]
          },
          "metadata": {},
          "execution_count": 155
        }
      ]
    },
    {
      "cell_type": "code",
      "source": [
        "ypred=mlr.predict(x_test)"
      ],
      "metadata": {
        "id": "9WmOgsgfZLG7"
      },
      "execution_count": null,
      "outputs": []
    },
    {
      "cell_type": "code",
      "source": [
        "ypred"
      ],
      "metadata": {
        "colab": {
          "base_uri": "https://localhost:8080/"
        },
        "id": "Nh_u9OYMZORg",
        "outputId": "7d217290-fae0-437d-f53a-164bd45d611e"
      },
      "execution_count": null,
      "outputs": [
        {
          "output_type": "execute_result",
          "data": {
            "text/plain": [
              "array([ 3.31332953e-01,  2.42132588e-01,  7.64384731e-01,  6.23159721e-01,\n",
              "        1.61154142e-02,  5.70524757e-01,  8.37060862e-01,  3.04927560e-02,\n",
              "        4.50468418e-01,  9.91483808e-01,  3.11070291e-01,  5.69771334e-01,\n",
              "        7.23389994e-01,  8.68436072e-01,  2.35860495e-01,  2.16667044e-01,\n",
              "        1.61404122e-01,  5.06543058e-01,  4.29447073e-01,  3.80144678e-01,\n",
              "        6.45959703e-01,  8.65037777e-01,  1.26969843e-03,  1.10022732e-01,\n",
              "        1.86342163e-02,  1.53243790e-01,  6.97302478e-01,  1.55520973e-01,\n",
              "        3.04501495e-01,  5.45574227e-01,  2.46960351e-01,  1.11944919e-01,\n",
              "        3.37691907e-01,  4.29771331e-01,  3.03001042e-01,  7.53296528e-01,\n",
              "        1.30309739e-01,  6.07169587e-01,  6.08317215e-01,  1.46280788e-01,\n",
              "        1.00854419e+00,  1.35684294e-01,  3.45393468e-01,  7.87745775e-01,\n",
              "        6.89182366e-01,  4.70529885e-02,  1.50072250e-01,  6.55909315e-01,\n",
              "        5.27740296e-01,  1.54325693e-01,  7.70060209e-01,  1.28735117e-01,\n",
              "        4.67188669e-01,  4.27670041e-01,  8.36213146e-01, -7.24014744e-02,\n",
              "        1.74484459e-01,  4.25612181e-01,  8.39654871e-01,  8.99556971e-01,\n",
              "        2.55877316e-01,  5.35872061e-01,  1.22177974e-01,  4.11063168e-01,\n",
              "        7.13949571e-01,  1.16435947e+00,  2.52452505e-01,  4.11093747e-02,\n",
              "        4.91034166e-02,  6.01556624e-01,  1.31861818e+00,  3.90815369e-01,\n",
              "        5.74789853e-01,  6.77430811e-01, -6.57701740e-03,  4.22366472e-01,\n",
              "        5.80555402e-01,  6.16605788e-01,  1.21247081e+00,  4.48096942e-01,\n",
              "        3.69301304e-01,  5.99696952e-01,  1.79749857e-01,  3.73996604e-01,\n",
              "        3.85101599e-03,  5.72505238e-01,  9.20059080e-01,  4.22538144e-01,\n",
              "        4.17393555e-01,  7.16625181e-01,  1.17759136e+00,  9.76024563e-01,\n",
              "        5.37676649e-01,  4.78542836e-01,  3.60466978e-01,  2.16972217e-01,\n",
              "        1.09813555e+00,  4.21709513e-01,  6.95112331e-02,  4.44324621e-02,\n",
              "        7.74419598e-01,  1.29732209e-01,  8.21343084e-01,  7.22764812e-01,\n",
              "        3.07230139e-01,  1.19216368e+00,  3.97193409e-01,  2.39823628e-01,\n",
              "        4.90209580e-01,  1.83427941e-01,  1.94344472e-01,  1.39879768e+00,\n",
              "        3.03552055e-01,  2.09663822e-01,  2.85313602e-02])"
            ]
          },
          "metadata": {},
          "execution_count": 157
        }
      ]
    },
    {
      "cell_type": "code",
      "source": [
        "from sklearn.metrics import r2_score\n",
        "accuracy=r2_score(ypred,y_test)"
      ],
      "metadata": {
        "id": "Dpc18_teZQHt"
      },
      "execution_count": null,
      "outputs": []
    },
    {
      "cell_type": "code",
      "source": [
        "accuracy"
      ],
      "metadata": {
        "colab": {
          "base_uri": "https://localhost:8080/"
        },
        "id": "SQMt3GAgZT3L",
        "outputId": "412595be-c933-4dab-a5ea-61b2ae0d6c2b"
      },
      "execution_count": null,
      "outputs": [
        {
          "output_type": "execute_result",
          "data": {
            "text/plain": [
              "-0.3894468493763974"
            ]
          },
          "metadata": {},
          "execution_count": 159
        }
      ]
    },
    {
      "cell_type": "code",
      "source": [
        "from sklearn.svm import SVC  \n",
        "clf = SVC(kernel='linear') "
      ],
      "metadata": {
        "id": "KSLHQV5jZVV7"
      },
      "execution_count": null,
      "outputs": []
    },
    {
      "cell_type": "code",
      "source": [
        "clf.fit(x, y) "
      ],
      "metadata": {
        "colab": {
          "base_uri": "https://localhost:8080/"
        },
        "id": "1cYluF-WaB1i",
        "outputId": "2b14afc6-cdaa-4b17-8c16-fe5699eed373"
      },
      "execution_count": null,
      "outputs": [
        {
          "output_type": "execute_result",
          "data": {
            "text/plain": [
              "SVC(kernel='linear')"
            ]
          },
          "metadata": {},
          "execution_count": 161
        }
      ]
    },
    {
      "cell_type": "code",
      "source": [
        "from sklearn import metrics\n",
        "accuracy=metrics.accuracy_score(y_test, y_pred)*100"
      ],
      "metadata": {
        "id": "thYz9m57bItW"
      },
      "execution_count": null,
      "outputs": []
    },
    {
      "cell_type": "code",
      "source": [
        "accuracy"
      ],
      "metadata": {
        "colab": {
          "base_uri": "https://localhost:8080/"
        },
        "id": "ZwCcgTSUbLYP",
        "outputId": "a06f1c8a-6019-4262-d400-006e9f151de8"
      },
      "execution_count": null,
      "outputs": [
        {
          "output_type": "execute_result",
          "data": {
            "text/plain": [
              "82.6086956521739"
            ]
          },
          "metadata": {},
          "execution_count": 163
        }
      ]
    },
    {
      "cell_type": "code",
      "source": [
        "clf.predict([[0.63,0.57,8.3]])"
      ],
      "metadata": {
        "colab": {
          "base_uri": "https://localhost:8080/"
        },
        "id": "zpD2wDt4aF-o",
        "outputId": "a44ba3d0-7d99-4411-da91-83da4cf5afa5"
      },
      "execution_count": null,
      "outputs": [
        {
          "output_type": "execute_result",
          "data": {
            "text/plain": [
              "array([0])"
            ]
          },
          "metadata": {},
          "execution_count": 164
        }
      ]
    },
    {
      "cell_type": "code",
      "source": [
        "from sklearn.naive_bayes import GaussianNB\n",
        "gnb = GaussianNB()\n",
        "gnb.fit(x_train, y_train)"
      ],
      "metadata": {
        "colab": {
          "base_uri": "https://localhost:8080/"
        },
        "id": "q_xWZMzDaTkS",
        "outputId": "f1a9f141-6580-40f3-c567-cceaa3775257"
      },
      "execution_count": null,
      "outputs": [
        {
          "output_type": "execute_result",
          "data": {
            "text/plain": [
              "GaussianNB()"
            ]
          },
          "metadata": {},
          "execution_count": 165
        }
      ]
    },
    {
      "cell_type": "code",
      "source": [
        "y_pred = gnb.predict(x_test)"
      ],
      "metadata": {
        "id": "7gqpRIPVaiNf"
      },
      "execution_count": null,
      "outputs": []
    },
    {
      "cell_type": "code",
      "source": [
        "y_pred"
      ],
      "metadata": {
        "colab": {
          "base_uri": "https://localhost:8080/"
        },
        "id": "nSfsyIxZamQg",
        "outputId": "adc2ab49-ddf8-427d-f83a-cb72fe56a39b"
      },
      "execution_count": null,
      "outputs": [
        {
          "output_type": "execute_result",
          "data": {
            "text/plain": [
              "array([0, 0, 1, 1, 0, 0, 1, 0, 0, 1, 0, 0, 1, 1, 0, 0, 0, 0, 0, 0, 1, 1,\n",
              "       0, 0, 0, 0, 1, 0, 1, 1, 0, 0, 0, 0, 0, 1, 0, 0, 1, 0, 1, 1, 0, 1,\n",
              "       1, 0, 0, 1, 1, 0, 1, 0, 0, 0, 1, 0, 0, 0, 1, 1, 0, 1, 0, 0, 1, 1,\n",
              "       0, 0, 0, 0, 1, 0, 0, 1, 0, 0, 1, 1, 1, 0, 0, 0, 0, 1, 0, 0, 1, 1,\n",
              "       0, 1, 1, 1, 0, 1, 1, 0, 1, 0, 0, 0, 1, 0, 1, 1, 0, 1, 0, 0, 0, 0,\n",
              "       0, 1, 0, 0, 0])"
            ]
          },
          "metadata": {},
          "execution_count": 167
        }
      ]
    },
    {
      "cell_type": "code",
      "source": [
        "from sklearn import metrics\n",
        "accuracy=metrics.accuracy_score(y_test, y_pred)*100"
      ],
      "metadata": {
        "id": "C9RDG8bjaoFx"
      },
      "execution_count": null,
      "outputs": []
    },
    {
      "cell_type": "code",
      "source": [
        "accuracy"
      ],
      "metadata": {
        "colab": {
          "base_uri": "https://localhost:8080/"
        },
        "id": "-HmzwKy0a9Vg",
        "outputId": "0f34a667-fe20-4306-b0ed-f741f419da1d"
      },
      "execution_count": null,
      "outputs": [
        {
          "output_type": "execute_result",
          "data": {
            "text/plain": [
              "82.6086956521739"
            ]
          },
          "metadata": {},
          "execution_count": 169
        }
      ]
    },
    {
      "cell_type": "code",
      "source": [],
      "metadata": {
        "id": "zaWQ-2hWbBXH"
      },
      "execution_count": null,
      "outputs": []
    }
  ]
}