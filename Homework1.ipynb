{
 "cells": [
  {
   "cell_type": "code",
   "execution_count": 1,
   "metadata": {},
   "outputs": [],
   "source": [
    "import numpy as np\n",
    "import pandas as pd"
   ]
  },
  {
   "cell_type": "code",
   "execution_count": 2,
   "metadata": {},
   "outputs": [
    {
     "name": "stderr",
     "output_type": "stream",
     "text": [
      "/Users/rohitpola/opt/anaconda3/lib/python3.9/site-packages/IPython/core/interactiveshell.py:3444: DtypeWarning: Columns (7) have mixed types.Specify dtype option on import or set low_memory=False.\n",
      "  exec(code_obj, self.user_global_ns, self.user_ns)\n"
     ]
    }
   ],
   "source": [
    "dataset=pd.read_csv(\"BPD_Part_1_Victim_Based_Crime_Data.csv\")"
   ]
  },
  {
   "cell_type": "code",
   "execution_count": 3,
   "metadata": {},
   "outputs": [
    {
     "data": {
      "text/html": [
       "<div>\n",
       "<style scoped>\n",
       "    .dataframe tbody tr th:only-of-type {\n",
       "        vertical-align: middle;\n",
       "    }\n",
       "\n",
       "    .dataframe tbody tr th {\n",
       "        vertical-align: top;\n",
       "    }\n",
       "\n",
       "    .dataframe thead th {\n",
       "        text-align: right;\n",
       "    }\n",
       "</style>\n",
       "<table border=\"1\" class=\"dataframe\">\n",
       "  <thead>\n",
       "    <tr style=\"text-align: right;\">\n",
       "      <th></th>\n",
       "      <th>CrimeDate</th>\n",
       "      <th>CrimeTime</th>\n",
       "      <th>CrimeCode</th>\n",
       "      <th>Location</th>\n",
       "      <th>Description</th>\n",
       "      <th>Inside/Outside</th>\n",
       "      <th>Weapon</th>\n",
       "      <th>Post</th>\n",
       "      <th>District</th>\n",
       "      <th>Neighborhood</th>\n",
       "      <th>Longitude</th>\n",
       "      <th>Latitude</th>\n",
       "      <th>Location 1</th>\n",
       "      <th>Premise</th>\n",
       "      <th>vri_name1</th>\n",
       "      <th>Total Incidents</th>\n",
       "    </tr>\n",
       "  </thead>\n",
       "  <tbody>\n",
       "    <tr>\n",
       "      <th>0</th>\n",
       "      <td>02/08/2020</td>\n",
       "      <td>2:18:00</td>\n",
       "      <td>5D</td>\n",
       "      <td>1700 CLIFTVIEW AVE</td>\n",
       "      <td>BURGLARY</td>\n",
       "      <td>I</td>\n",
       "      <td>NaN</td>\n",
       "      <td>312.0</td>\n",
       "      <td>EASTERN</td>\n",
       "      <td>DARLEY PARK</td>\n",
       "      <td>-76.593870</td>\n",
       "      <td>39.315341</td>\n",
       "      <td>NaN</td>\n",
       "      <td>GROCERY/CONFECTION</td>\n",
       "      <td>Eastern 1</td>\n",
       "      <td>1</td>\n",
       "    </tr>\n",
       "    <tr>\n",
       "      <th>1</th>\n",
       "      <td>02/08/2020</td>\n",
       "      <td>6:00:00</td>\n",
       "      <td>6G</td>\n",
       "      <td>700 N STREEPER ST</td>\n",
       "      <td>LARCENY</td>\n",
       "      <td>I</td>\n",
       "      <td>NaN</td>\n",
       "      <td>333.0</td>\n",
       "      <td>EASTERN</td>\n",
       "      <td>MADISON EASTEND</td>\n",
       "      <td>-76.577425</td>\n",
       "      <td>39.299094</td>\n",
       "      <td>NaN</td>\n",
       "      <td>ROW/TOWNHOUSE-OCC</td>\n",
       "      <td>NaN</td>\n",
       "      <td>1</td>\n",
       "    </tr>\n",
       "    <tr>\n",
       "      <th>2</th>\n",
       "      <td>02/08/2020</td>\n",
       "      <td>9:50:00</td>\n",
       "      <td>3JF</td>\n",
       "      <td>1400 N BROADWAY</td>\n",
       "      <td>ROBBERY - RESIDENCE</td>\n",
       "      <td>I</td>\n",
       "      <td>FIREARM</td>\n",
       "      <td>314.0</td>\n",
       "      <td>EASTERN</td>\n",
       "      <td>OLIVER</td>\n",
       "      <td>-76.594992</td>\n",
       "      <td>39.306941</td>\n",
       "      <td>NaN</td>\n",
       "      <td>ROW/TOWNHOUSE-OCC</td>\n",
       "      <td>NaN</td>\n",
       "      <td>1</td>\n",
       "    </tr>\n",
       "    <tr>\n",
       "      <th>3</th>\n",
       "      <td>02/08/2020</td>\n",
       "      <td>9:50:00</td>\n",
       "      <td>3JF</td>\n",
       "      <td>1400 N BROADWAY</td>\n",
       "      <td>ROBBERY - RESIDENCE</td>\n",
       "      <td>I</td>\n",
       "      <td>FIREARM</td>\n",
       "      <td>314.0</td>\n",
       "      <td>EASTERN</td>\n",
       "      <td>OLIVER</td>\n",
       "      <td>-76.594992</td>\n",
       "      <td>39.306941</td>\n",
       "      <td>NaN</td>\n",
       "      <td>ROW/TOWNHOUSE-OCC</td>\n",
       "      <td>NaN</td>\n",
       "      <td>1</td>\n",
       "    </tr>\n",
       "    <tr>\n",
       "      <th>4</th>\n",
       "      <td>02/08/2020</td>\n",
       "      <td>17:30:00</td>\n",
       "      <td>5A</td>\n",
       "      <td>1600 E OLIVER ST</td>\n",
       "      <td>BURGLARY</td>\n",
       "      <td>I</td>\n",
       "      <td>NaN</td>\n",
       "      <td>314.0</td>\n",
       "      <td>EASTERN</td>\n",
       "      <td>OLIVER</td>\n",
       "      <td>-76.595946</td>\n",
       "      <td>39.307350</td>\n",
       "      <td>NaN</td>\n",
       "      <td>ROW/TOWNHOUSE-OCC</td>\n",
       "      <td>Eastern 1</td>\n",
       "      <td>1</td>\n",
       "    </tr>\n",
       "  </tbody>\n",
       "</table>\n",
       "</div>"
      ],
      "text/plain": [
       "    CrimeDate CrimeTime CrimeCode            Location          Description  \\\n",
       "0  02/08/2020   2:18:00        5D  1700 CLIFTVIEW AVE             BURGLARY   \n",
       "1  02/08/2020   6:00:00        6G   700 N STREEPER ST              LARCENY   \n",
       "2  02/08/2020   9:50:00       3JF     1400 N BROADWAY  ROBBERY - RESIDENCE   \n",
       "3  02/08/2020   9:50:00       3JF     1400 N BROADWAY  ROBBERY - RESIDENCE   \n",
       "4  02/08/2020  17:30:00        5A    1600 E OLIVER ST             BURGLARY   \n",
       "\n",
       "  Inside/Outside   Weapon   Post District     Neighborhood  Longitude  \\\n",
       "0              I      NaN  312.0  EASTERN      DARLEY PARK -76.593870   \n",
       "1              I      NaN  333.0  EASTERN  MADISON EASTEND -76.577425   \n",
       "2              I  FIREARM  314.0  EASTERN           OLIVER -76.594992   \n",
       "3              I  FIREARM  314.0  EASTERN           OLIVER -76.594992   \n",
       "4              I      NaN  314.0  EASTERN           OLIVER -76.595946   \n",
       "\n",
       "    Latitude  Location 1             Premise  vri_name1  Total Incidents  \n",
       "0  39.315341         NaN  GROCERY/CONFECTION  Eastern 1                1  \n",
       "1  39.299094         NaN   ROW/TOWNHOUSE-OCC        NaN                1  \n",
       "2  39.306941         NaN   ROW/TOWNHOUSE-OCC        NaN                1  \n",
       "3  39.306941         NaN   ROW/TOWNHOUSE-OCC        NaN                1  \n",
       "4  39.307350         NaN   ROW/TOWNHOUSE-OCC  Eastern 1                1  "
      ]
     },
     "execution_count": 3,
     "metadata": {},
     "output_type": "execute_result"
    }
   ],
   "source": [
    "dataset.head()"
   ]
  },
  {
   "cell_type": "markdown",
   "metadata": {},
   "source": [
    "# Total number of instances/rows: 292761\n",
    "# Total number of features/columns: 16"
   ]
  },
  {
   "cell_type": "code",
   "execution_count": 4,
   "metadata": {
    "scrolled": false
   },
   "outputs": [
    {
     "data": {
      "text/html": [
       "<div>\n",
       "<style scoped>\n",
       "    .dataframe tbody tr th:only-of-type {\n",
       "        vertical-align: middle;\n",
       "    }\n",
       "\n",
       "    .dataframe tbody tr th {\n",
       "        vertical-align: top;\n",
       "    }\n",
       "\n",
       "    .dataframe thead th {\n",
       "        text-align: right;\n",
       "    }\n",
       "</style>\n",
       "<table border=\"1\" class=\"dataframe\">\n",
       "  <thead>\n",
       "    <tr style=\"text-align: right;\">\n",
       "      <th></th>\n",
       "      <th>CrimeDate</th>\n",
       "      <th>CrimeTime</th>\n",
       "      <th>CrimeCode</th>\n",
       "      <th>Location</th>\n",
       "      <th>Description</th>\n",
       "      <th>Inside/Outside</th>\n",
       "      <th>Weapon</th>\n",
       "      <th>Post</th>\n",
       "      <th>District</th>\n",
       "      <th>Neighborhood</th>\n",
       "      <th>Longitude</th>\n",
       "      <th>Latitude</th>\n",
       "      <th>Location 1</th>\n",
       "      <th>Premise</th>\n",
       "      <th>vri_name1</th>\n",
       "      <th>Total Incidents</th>\n",
       "    </tr>\n",
       "  </thead>\n",
       "  <tbody>\n",
       "    <tr>\n",
       "      <th>0</th>\n",
       "      <td>02/08/2020</td>\n",
       "      <td>2:18:00</td>\n",
       "      <td>5D</td>\n",
       "      <td>1700 CLIFTVIEW AVE</td>\n",
       "      <td>BURGLARY</td>\n",
       "      <td>I</td>\n",
       "      <td>NaN</td>\n",
       "      <td>312.0</td>\n",
       "      <td>EASTERN</td>\n",
       "      <td>DARLEY PARK</td>\n",
       "      <td>-76.593870</td>\n",
       "      <td>39.315341</td>\n",
       "      <td>NaN</td>\n",
       "      <td>GROCERY/CONFECTION</td>\n",
       "      <td>Eastern 1</td>\n",
       "      <td>1</td>\n",
       "    </tr>\n",
       "    <tr>\n",
       "      <th>1</th>\n",
       "      <td>02/08/2020</td>\n",
       "      <td>6:00:00</td>\n",
       "      <td>6G</td>\n",
       "      <td>700 N STREEPER ST</td>\n",
       "      <td>LARCENY</td>\n",
       "      <td>I</td>\n",
       "      <td>NaN</td>\n",
       "      <td>333.0</td>\n",
       "      <td>EASTERN</td>\n",
       "      <td>MADISON EASTEND</td>\n",
       "      <td>-76.577425</td>\n",
       "      <td>39.299094</td>\n",
       "      <td>NaN</td>\n",
       "      <td>ROW/TOWNHOUSE-OCC</td>\n",
       "      <td>NaN</td>\n",
       "      <td>1</td>\n",
       "    </tr>\n",
       "    <tr>\n",
       "      <th>2</th>\n",
       "      <td>02/08/2020</td>\n",
       "      <td>9:50:00</td>\n",
       "      <td>3JF</td>\n",
       "      <td>1400 N BROADWAY</td>\n",
       "      <td>ROBBERY - RESIDENCE</td>\n",
       "      <td>I</td>\n",
       "      <td>FIREARM</td>\n",
       "      <td>314.0</td>\n",
       "      <td>EASTERN</td>\n",
       "      <td>OLIVER</td>\n",
       "      <td>-76.594992</td>\n",
       "      <td>39.306941</td>\n",
       "      <td>NaN</td>\n",
       "      <td>ROW/TOWNHOUSE-OCC</td>\n",
       "      <td>NaN</td>\n",
       "      <td>1</td>\n",
       "    </tr>\n",
       "    <tr>\n",
       "      <th>3</th>\n",
       "      <td>02/08/2020</td>\n",
       "      <td>9:50:00</td>\n",
       "      <td>3JF</td>\n",
       "      <td>1400 N BROADWAY</td>\n",
       "      <td>ROBBERY - RESIDENCE</td>\n",
       "      <td>I</td>\n",
       "      <td>FIREARM</td>\n",
       "      <td>314.0</td>\n",
       "      <td>EASTERN</td>\n",
       "      <td>OLIVER</td>\n",
       "      <td>-76.594992</td>\n",
       "      <td>39.306941</td>\n",
       "      <td>NaN</td>\n",
       "      <td>ROW/TOWNHOUSE-OCC</td>\n",
       "      <td>NaN</td>\n",
       "      <td>1</td>\n",
       "    </tr>\n",
       "    <tr>\n",
       "      <th>4</th>\n",
       "      <td>02/08/2020</td>\n",
       "      <td>17:30:00</td>\n",
       "      <td>5A</td>\n",
       "      <td>1600 E OLIVER ST</td>\n",
       "      <td>BURGLARY</td>\n",
       "      <td>I</td>\n",
       "      <td>NaN</td>\n",
       "      <td>314.0</td>\n",
       "      <td>EASTERN</td>\n",
       "      <td>OLIVER</td>\n",
       "      <td>-76.595946</td>\n",
       "      <td>39.307350</td>\n",
       "      <td>NaN</td>\n",
       "      <td>ROW/TOWNHOUSE-OCC</td>\n",
       "      <td>Eastern 1</td>\n",
       "      <td>1</td>\n",
       "    </tr>\n",
       "    <tr>\n",
       "      <th>...</th>\n",
       "      <td>...</td>\n",
       "      <td>...</td>\n",
       "      <td>...</td>\n",
       "      <td>...</td>\n",
       "      <td>...</td>\n",
       "      <td>...</td>\n",
       "      <td>...</td>\n",
       "      <td>...</td>\n",
       "      <td>...</td>\n",
       "      <td>...</td>\n",
       "      <td>...</td>\n",
       "      <td>...</td>\n",
       "      <td>...</td>\n",
       "      <td>...</td>\n",
       "      <td>...</td>\n",
       "      <td>...</td>\n",
       "    </tr>\n",
       "    <tr>\n",
       "      <th>292756</th>\n",
       "      <td>01/01/1978</td>\n",
       "      <td>10:30:00</td>\n",
       "      <td>2A</td>\n",
       "      <td>1900 ARGONNE DR</td>\n",
       "      <td>RAPE</td>\n",
       "      <td>I</td>\n",
       "      <td>OTHER</td>\n",
       "      <td>421.0</td>\n",
       "      <td>NORTHEAST</td>\n",
       "      <td>MORGAN STATE UNIVERS</td>\n",
       "      <td>-76.582056</td>\n",
       "      <td>39.340492</td>\n",
       "      <td>NaN</td>\n",
       "      <td>ROW/TOWNHOUSE-OCC</td>\n",
       "      <td>NaN</td>\n",
       "      <td>1</td>\n",
       "    </tr>\n",
       "    <tr>\n",
       "      <th>292757</th>\n",
       "      <td>05/01/1977</td>\n",
       "      <td>0:01:00</td>\n",
       "      <td>2A</td>\n",
       "      <td>600 W 34TH ST</td>\n",
       "      <td>RAPE</td>\n",
       "      <td>I</td>\n",
       "      <td>OTHER</td>\n",
       "      <td>531.0</td>\n",
       "      <td>NORTHERN</td>\n",
       "      <td>WYMAN PARK</td>\n",
       "      <td>-76.626880</td>\n",
       "      <td>39.328817</td>\n",
       "      <td>NaN</td>\n",
       "      <td>ROW/TOWNHOUSE-OCC</td>\n",
       "      <td>NaN</td>\n",
       "      <td>1</td>\n",
       "    </tr>\n",
       "    <tr>\n",
       "      <th>292758</th>\n",
       "      <td>06/01/1975</td>\n",
       "      <td>0:00:00</td>\n",
       "      <td>2A</td>\n",
       "      <td>4400 OLD FREDERICK RD</td>\n",
       "      <td>RAPE</td>\n",
       "      <td>I</td>\n",
       "      <td>OTHER</td>\n",
       "      <td>822.0</td>\n",
       "      <td>SOUTHWEST</td>\n",
       "      <td>UPLANDS</td>\n",
       "      <td>-76.691297</td>\n",
       "      <td>39.289582</td>\n",
       "      <td>NaN</td>\n",
       "      <td>OTHER - INSIDE</td>\n",
       "      <td>NaN</td>\n",
       "      <td>1</td>\n",
       "    </tr>\n",
       "    <tr>\n",
       "      <th>292759</th>\n",
       "      <td>07/20/1969</td>\n",
       "      <td>21:00:00</td>\n",
       "      <td>2A</td>\n",
       "      <td>5400 ROLAND AVE</td>\n",
       "      <td>RAPE</td>\n",
       "      <td>NaN</td>\n",
       "      <td>OTHER</td>\n",
       "      <td>534.0</td>\n",
       "      <td>NORTHERN</td>\n",
       "      <td>ROLAND PARK</td>\n",
       "      <td>-76.635300</td>\n",
       "      <td>39.358898</td>\n",
       "      <td>NaN</td>\n",
       "      <td>NaN</td>\n",
       "      <td>NaN</td>\n",
       "      <td>1</td>\n",
       "    </tr>\n",
       "    <tr>\n",
       "      <th>292760</th>\n",
       "      <td>10/30/1963</td>\n",
       "      <td>0:00:00</td>\n",
       "      <td>2A</td>\n",
       "      <td>3100 FERNDALE AVE</td>\n",
       "      <td>RAPE</td>\n",
       "      <td>I</td>\n",
       "      <td>OTHER</td>\n",
       "      <td>622.0</td>\n",
       "      <td>NORTHWEST</td>\n",
       "      <td>HOWARD PARK</td>\n",
       "      <td>-76.702636</td>\n",
       "      <td>39.326875</td>\n",
       "      <td>NaN</td>\n",
       "      <td>ROW/TOWNHOUSE-OCC</td>\n",
       "      <td>NaN</td>\n",
       "      <td>1</td>\n",
       "    </tr>\n",
       "  </tbody>\n",
       "</table>\n",
       "<p>292761 rows × 16 columns</p>\n",
       "</div>"
      ],
      "text/plain": [
       "         CrimeDate CrimeTime CrimeCode               Location  \\\n",
       "0       02/08/2020   2:18:00        5D     1700 CLIFTVIEW AVE   \n",
       "1       02/08/2020   6:00:00        6G      700 N STREEPER ST   \n",
       "2       02/08/2020   9:50:00       3JF        1400 N BROADWAY   \n",
       "3       02/08/2020   9:50:00       3JF        1400 N BROADWAY   \n",
       "4       02/08/2020  17:30:00        5A       1600 E OLIVER ST   \n",
       "...            ...       ...       ...                    ...   \n",
       "292756  01/01/1978  10:30:00        2A        1900 ARGONNE DR   \n",
       "292757  05/01/1977   0:01:00        2A          600 W 34TH ST   \n",
       "292758  06/01/1975   0:00:00        2A  4400 OLD FREDERICK RD   \n",
       "292759  07/20/1969  21:00:00        2A        5400 ROLAND AVE   \n",
       "292760  10/30/1963   0:00:00        2A      3100 FERNDALE AVE   \n",
       "\n",
       "                Description Inside/Outside   Weapon   Post   District  \\\n",
       "0                  BURGLARY              I      NaN  312.0    EASTERN   \n",
       "1                   LARCENY              I      NaN  333.0    EASTERN   \n",
       "2       ROBBERY - RESIDENCE              I  FIREARM  314.0    EASTERN   \n",
       "3       ROBBERY - RESIDENCE              I  FIREARM  314.0    EASTERN   \n",
       "4                  BURGLARY              I      NaN  314.0    EASTERN   \n",
       "...                     ...            ...      ...    ...        ...   \n",
       "292756                 RAPE              I    OTHER  421.0  NORTHEAST   \n",
       "292757                 RAPE              I    OTHER  531.0   NORTHERN   \n",
       "292758                 RAPE              I    OTHER  822.0  SOUTHWEST   \n",
       "292759                 RAPE            NaN    OTHER  534.0   NORTHERN   \n",
       "292760                 RAPE              I    OTHER  622.0  NORTHWEST   \n",
       "\n",
       "                Neighborhood  Longitude   Latitude  Location 1  \\\n",
       "0                DARLEY PARK -76.593870  39.315341         NaN   \n",
       "1            MADISON EASTEND -76.577425  39.299094         NaN   \n",
       "2                     OLIVER -76.594992  39.306941         NaN   \n",
       "3                     OLIVER -76.594992  39.306941         NaN   \n",
       "4                     OLIVER -76.595946  39.307350         NaN   \n",
       "...                      ...        ...        ...         ...   \n",
       "292756  MORGAN STATE UNIVERS -76.582056  39.340492         NaN   \n",
       "292757            WYMAN PARK -76.626880  39.328817         NaN   \n",
       "292758               UPLANDS -76.691297  39.289582         NaN   \n",
       "292759           ROLAND PARK -76.635300  39.358898         NaN   \n",
       "292760           HOWARD PARK -76.702636  39.326875         NaN   \n",
       "\n",
       "                   Premise  vri_name1  Total Incidents  \n",
       "0       GROCERY/CONFECTION  Eastern 1                1  \n",
       "1        ROW/TOWNHOUSE-OCC        NaN                1  \n",
       "2        ROW/TOWNHOUSE-OCC        NaN                1  \n",
       "3        ROW/TOWNHOUSE-OCC        NaN                1  \n",
       "4        ROW/TOWNHOUSE-OCC  Eastern 1                1  \n",
       "...                    ...        ...              ...  \n",
       "292756   ROW/TOWNHOUSE-OCC        NaN                1  \n",
       "292757   ROW/TOWNHOUSE-OCC        NaN                1  \n",
       "292758      OTHER - INSIDE        NaN                1  \n",
       "292759                 NaN        NaN                1  \n",
       "292760   ROW/TOWNHOUSE-OCC        NaN                1  \n",
       "\n",
       "[292761 rows x 16 columns]"
      ]
     },
     "execution_count": 4,
     "metadata": {},
     "output_type": "execute_result"
    }
   ],
   "source": [
    "dataset"
   ]
  },
  {
   "cell_type": "markdown",
   "metadata": {},
   "source": [
    "# NUMERIC ATTRIBUTES AND THERE MIN,MAX,MEAN,MEDIAN AND STANDARD DEVIATION"
   ]
  },
  {
   "cell_type": "code",
   "execution_count": 19,
   "metadata": {},
   "outputs": [
    {
     "data": {
      "text/html": [
       "<div>\n",
       "<style scoped>\n",
       "    .dataframe tbody tr th:only-of-type {\n",
       "        vertical-align: middle;\n",
       "    }\n",
       "\n",
       "    .dataframe tbody tr th {\n",
       "        vertical-align: top;\n",
       "    }\n",
       "\n",
       "    .dataframe thead th {\n",
       "        text-align: right;\n",
       "    }\n",
       "</style>\n",
       "<table border=\"1\" class=\"dataframe\">\n",
       "  <thead>\n",
       "    <tr style=\"text-align: right;\">\n",
       "      <th></th>\n",
       "      <th>Longitude</th>\n",
       "      <th>Latitude</th>\n",
       "      <th>Location 1</th>\n",
       "      <th>Total Incidents</th>\n",
       "    </tr>\n",
       "  </thead>\n",
       "  <tbody>\n",
       "    <tr>\n",
       "      <th>count</th>\n",
       "      <td>291126.000000</td>\n",
       "      <td>291126.000000</td>\n",
       "      <td>0.0</td>\n",
       "      <td>292761.0</td>\n",
       "    </tr>\n",
       "    <tr>\n",
       "      <th>mean</th>\n",
       "      <td>-76.617452</td>\n",
       "      <td>39.306746</td>\n",
       "      <td>NaN</td>\n",
       "      <td>1.0</td>\n",
       "    </tr>\n",
       "    <tr>\n",
       "      <th>std</th>\n",
       "      <td>0.043734</td>\n",
       "      <td>0.029658</td>\n",
       "      <td>NaN</td>\n",
       "      <td>0.0</td>\n",
       "    </tr>\n",
       "    <tr>\n",
       "      <th>min</th>\n",
       "      <td>-81.529189</td>\n",
       "      <td>37.577262</td>\n",
       "      <td>NaN</td>\n",
       "      <td>1.0</td>\n",
       "    </tr>\n",
       "    <tr>\n",
       "      <th>25%</th>\n",
       "      <td>-76.649094</td>\n",
       "      <td>39.288186</td>\n",
       "      <td>NaN</td>\n",
       "      <td>1.0</td>\n",
       "    </tr>\n",
       "    <tr>\n",
       "      <th>50%</th>\n",
       "      <td>-76.613977</td>\n",
       "      <td>39.302672</td>\n",
       "      <td>NaN</td>\n",
       "      <td>1.0</td>\n",
       "    </tr>\n",
       "    <tr>\n",
       "      <th>75%</th>\n",
       "      <td>-76.587080</td>\n",
       "      <td>39.326965</td>\n",
       "      <td>NaN</td>\n",
       "      <td>1.0</td>\n",
       "    </tr>\n",
       "    <tr>\n",
       "      <th>max</th>\n",
       "      <td>-76.383228</td>\n",
       "      <td>39.661332</td>\n",
       "      <td>NaN</td>\n",
       "      <td>1.0</td>\n",
       "    </tr>\n",
       "  </tbody>\n",
       "</table>\n",
       "</div>"
      ],
      "text/plain": [
       "           Longitude       Latitude  Location 1  Total Incidents\n",
       "count  291126.000000  291126.000000         0.0         292761.0\n",
       "mean      -76.617452      39.306746         NaN              1.0\n",
       "std         0.043734       0.029658         NaN              0.0\n",
       "min       -81.529189      37.577262         NaN              1.0\n",
       "25%       -76.649094      39.288186         NaN              1.0\n",
       "50%       -76.613977      39.302672         NaN              1.0\n",
       "75%       -76.587080      39.326965         NaN              1.0\n",
       "max       -76.383228      39.661332         NaN              1.0"
      ]
     },
     "execution_count": 19,
     "metadata": {},
     "output_type": "execute_result"
    }
   ],
   "source": [
    "dataset[['Longitude','Latitude','Location 1','Total Incidents']].describe()"
   ]
  },
  {
   "cell_type": "markdown",
   "metadata": {},
   "source": [
    "# DISCRETE ATTRIBUTEs WHICH HAS UNIQUE VALUES"
   ]
  },
  {
   "cell_type": "code",
   "execution_count": 6,
   "metadata": {},
   "outputs": [
    {
     "data": {
      "text/plain": [
       "array(['BURGLARY', 'LARCENY', 'ROBBERY - RESIDENCE', 'AUTO THEFT',\n",
       "       'ROBBERY - COMMERCIAL', 'ROBBERY - STREET', 'COMMON ASSAULT',\n",
       "       'SHOOTING', 'AGG. ASSAULT', 'LARCENY FROM AUTO',\n",
       "       'ROBBERY - CARJACKING', 'HOMICIDE', 'RAPE', 'ARSON'], dtype=object)"
      ]
     },
     "execution_count": 6,
     "metadata": {},
     "output_type": "execute_result"
    }
   ],
   "source": [
    "dataset[\"Description\"].unique()"
   ]
  },
  {
   "cell_type": "code",
   "execution_count": 7,
   "metadata": {},
   "outputs": [
    {
     "data": {
      "text/plain": [
       "14"
      ]
     },
     "execution_count": 7,
     "metadata": {},
     "output_type": "execute_result"
    }
   ],
   "source": [
    "dataset[\"Description\"].unique().size"
   ]
  },
  {
   "cell_type": "code",
   "execution_count": 8,
   "metadata": {},
   "outputs": [
    {
     "data": {
      "text/plain": [
       "array(['EASTERN', 'SOUTHWEST', 'NORTHEAST', 'NORTHWEST', 'NORTHERN',\n",
       "       'SOUTHEAST', 'SOUTHERN', 'CENTRAL', 'WESTERN', 'UNKNOWN'],\n",
       "      dtype=object)"
      ]
     },
     "execution_count": 8,
     "metadata": {},
     "output_type": "execute_result"
    }
   ],
   "source": [
    "dataset[\"District\"].unique()"
   ]
  },
  {
   "cell_type": "code",
   "execution_count": 9,
   "metadata": {},
   "outputs": [
    {
     "data": {
      "text/plain": [
       "10"
      ]
     },
     "execution_count": 9,
     "metadata": {},
     "output_type": "execute_result"
    }
   ],
   "source": [
    "dataset[\"District\"].unique().size"
   ]
  },
  {
   "cell_type": "code",
   "execution_count": 10,
   "metadata": {},
   "outputs": [
    {
     "data": {
      "text/plain": [
       "array(['DARLEY PARK', 'MADISON EASTEND', 'OLIVER', nan, 'BELAIR-EDISON',\n",
       "       'CENTRAL PARK HEIGHTS', 'BARCLAY', 'REISTERSTOWN STATION',\n",
       "       'ARLINGTON', 'CURTIS BAY', 'DOWNTOWN', 'MOUNT HOLLY', 'HARWOOD',\n",
       "       'EDMONDSON VILLAGE', 'HOLLINS PARK', 'PENROSE/FAYETTE ST OUTREACH',\n",
       "       'SANDTOWN-WINCHESTER', 'PENN NORTH', 'WEST FOREST PARK',\n",
       "       'HOES HEIGHTS', 'CHARLES VILLAGE', 'BRIDGEVIEW/GREENLAWN',\n",
       "       'DUNBAR', 'CARROLLTON RIDGE', 'ROSEMONT HOMEOWNERS',\n",
       "       'MOUNT VERNON', 'WALTHERSON', 'RAMBLEWOOD', 'ARMISTEAD GARDENS',\n",
       "       'NEW NORTHWOOD', 'FRANKFORD', 'MIDDLE BRANCH/REEBIRD PARKS',\n",
       "       'IRVINGTON', 'BROOKLYN', 'PORT COVINGTON', 'HOWARD PARK',\n",
       "       'WEST ARLINGTON', 'FEDERAL HILL/MONTGOM', 'WYMAN PARK',\n",
       "       'HUNTING RIDGE', 'MADISON PARK', 'HOMELAND', 'INNER HARBOR',\n",
       "       'MID-TOWN BELVEDERE', 'CHINQUAPIN PARK/BELV',\n",
       "       'MEDFORD/BROENING MAN', 'PEN LUCY', 'WAVERLY', 'BEECHFIELD',\n",
       "       'CANTON', 'GAY STREET', 'MIDDLE EAST', 'BIDDLE STREET',\n",
       "       'BETTER WAVERLY', 'MONDAWMIN', 'JOSEPH LEE', 'UPPER FELLS POINT',\n",
       "       'DOLFIELD', 'WESTPORT', 'WOODMERE', 'POPPLETON', 'PERKINS HOMES',\n",
       "       'HARLEM PARK', 'BALTIMORE HIGHLANDS', 'ELLWOOD PARK/MONUMEN',\n",
       "       'TOWANDA-GRANTLEY', 'PIMLICO GOOD NEIGHBO', 'WINCHESTER',\n",
       "       'BRADDISH AVE./PANWAY', 'FAIRFIELD', 'LOCH RAVEN',\n",
       "       'COLDSTREAM HOMESTEAD', 'MORRELL PARK', '4X4', 'DRUID HEIGHTS',\n",
       "       'CYLBURN', 'OAKENSHAWE', 'CAMERON VILLAGE', 'ROSEMONT',\n",
       "       'LITTLE ITALY', 'CANTON INDUSTRIAL AREA', 'WINSTON-GOVANS',\n",
       "       'CHERRY HILL', 'MILL HILL', 'STADIUM AREA', 'LIBERTY SQUARE',\n",
       "       'BUTCHERS HILL', 'MIDTOWN EDMONDSON', 'CURTIS BAY INDUSTRIAL AREA',\n",
       "       'GLEN', 'CEDMONT', 'UPLANDS', 'BROADWAY EAST', 'CALLAWAY-GARRISON',\n",
       "       'ALLENDALE', 'FALLSTAFF', 'DORCHESTER/GRAN-BARR',\n",
       "       'ORANGEVILLE INDUSTRIAL AREA', 'BREWERS HILL', 'SETON HILL',\n",
       "       'MILTON-MONTFORD', 'HAMPDEN', 'LAKE WALKER', 'BEREA',\n",
       "       'HANLON/LONGWOOD', 'UPTON', 'OLDTOWN', 'PEN-FALLSWAY',\n",
       "       'ROLAND PARK', 'CHARLES NORTH', 'NORTHWEST COMMUNITY', 'GLEN OAKS',\n",
       "       'JOHNSTON SQUARE', 'HUDSON-HIGHLANDTOWN', 'LAURAVILLE',\n",
       "       'MCELDERRY PARK', 'PARK CIRCLE', 'FOREST PARK/GOLF COU', 'OVERLEA',\n",
       "       'SOUTH CLIFTON PARK', 'WASHINGTON HILL', 'GWYNNS FALLS',\n",
       "       'WILSON PARK', 'UNIVERSITY OF MARYLA', 'COPPIN HEIGHTS/ASHBU',\n",
       "       'WASHINGTON VILLAGE', 'UNION SQUARE', 'LAKELAND', 'WOODBROOK',\n",
       "       'FRANKLIN SQUARE', 'EAST BALTIMORE MIDWA', 'BALTIMORE-LINWOOD',\n",
       "       'HARFORD-ECHODALE-PER', 'PATTERSON PLACE', 'FELLS POINT',\n",
       "       'REMINGTON', 'WOODBERRY', 'WESTGATE', 'OAKLEE', 'WESTFIELD',\n",
       "       'EDNOR GARDENS-LAKESI', 'MOUNT WASHINGTON', 'SHIPLEY HILL',\n",
       "       'RESERVOIR HILL', 'NORTH HARFORD ROAD', 'LUCILLE PARK',\n",
       "       'ASHBURTON', 'SAINT JOSEPHS', 'BOLTON HILL', 'RIVERSIDE',\n",
       "       'GUILFORD', 'MOSHER', 'CARROLL - CAMDEN INDUSTRIAL AREA',\n",
       "       'EAST ARLINGTON', 'FRANKLINTOWN ROAD', 'WINDSOR HILLS',\n",
       "       'CARROLL-SOUTH HILTON', 'FRANKLINTOWN', 'WOODRING', 'BARRE CIRCLE',\n",
       "       'ROSEMONT AVENUE', 'PARKLANE', 'IDLEWOOD', 'MAYFIELD', 'JONESTOWN',\n",
       "       'STONEWOOD-PENTWOOD-W', 'YALE HEIGHTS',\n",
       "       'NEW SOUTHWEST/MOUNT CLARE', 'EASTERWOOD', 'LANGSTON HUGHES',\n",
       "       'GRACELAND PARK', 'KRESSON', 'GLENHAM-BELFORD',\n",
       "       'PLEASENT VIEW GARDENS', 'GREEKTOWN', 'MORGAN STATE UNIVERS',\n",
       "       'KESWICK', 'LOCUST POINT', 'ABELL', 'ROGNEL HEIGHTS', 'CEDONIA',\n",
       "       'WILSON HEIGHTS', 'FOREST PARK', 'HERITAGE CROSSING',\n",
       "       'RICHNOR SPRINGS', 'CONCERNED CITIZENS O', 'ORANGEVILLE',\n",
       "       'OTTERBEIN', 'PURNELL', 'BURLEITH-LEIGHTON', 'GREENSPRING',\n",
       "       'WAKEFIELD', 'GARWYN OAKS', 'WALBROOK', 'MID-GOVANS',\n",
       "       'PERRING LOCH', 'TREMONT', 'BELAIR-PARKSIDE',\n",
       "       'PULASKI INDUSTRIAL AREA', 'CLAREMONT-FREEDOM', 'CROSS COUNTRY',\n",
       "       'PARKSIDE', 'BEVERLY HILLS', 'BOOTH-BOYD', 'MOUNT WINANS',\n",
       "       'ORIGINAL NORTHWOOD', 'MORAVIA-WALTHER', 'GROVE PARK', 'S.B.I.C.',\n",
       "       'CENTRAL FOREST PARK', 'ARCADIA', 'MEDFORD', 'SAINT PAUL',\n",
       "       'TEN HILLS', 'ODONNELL HEIGHTS', 'WYNDHURST', 'KERNEWOOD',\n",
       "       'ROSEBANK', 'GREENMOUNT WEST', 'DRUID HILL PARK ASSO',\n",
       "       'SETON BUSINESS PARK', 'HILLEN', 'MEDFIELD', 'SAINT HELENA',\n",
       "       'VIOLETVILLE', 'HAWKINS POINT', 'CROSS KEYS', 'LOYOLA/NOTRE DAME',\n",
       "       'CLIFTON PARK', 'WEST HILLS', 'CHESWOLDE', 'LEVINDALE',\n",
       "       'WOODBOURNE HEIGHTS', 'SAINT AGNES', 'TUSCANY-CANTERBURY',\n",
       "       'NORTH ROLAND PARK/POPLAR HILL', 'MONTEBELLO', 'SHARP LEADENHALL',\n",
       "       'LOCUST POINT INDUSTRIAL AREA', 'PATTERSON PARK', 'BAYVIEW',\n",
       "       'CHRISTOPHER', 'MORGAN PARK', 'SABINA-MATTFELDT', 'COLDSPRING',\n",
       "       'SPRING GARDEN INDUSTRIAL AREA', 'TAYLOR HEIGHTS',\n",
       "       'KENILWORTH PARK', 'EVERGREEN LAWN', 'RIDGELYS DELIGHT',\n",
       "       'EASTWOOD', 'JOHN HOPKINS HOMEWOO', 'FAIRMOUNT',\n",
       "       'WOODBOURNE MCCABE', 'FORT HOLABIRD', 'JONES FALLS AREA',\n",
       "       'CEDARCROFT', 'GWYNNS FALLS/LEAKIN PARK', 'RADNOR-WINSTON',\n",
       "       'CARROLL PARK', 'HERRING RUN PARK', 'VILLAGES OF HOMELAND',\n",
       "       'THE ORCHARDS', 'EVERGREEN', 'GREENMOUNT CEMETERY', 'LAKE-EVESHAM',\n",
       "       'BELLONA-GITTINGS', 'LOWER HERRING RUN PARK', 'DICKEYVILLE',\n",
       "       'BELAIR', 'MOUNT PLEASANT PARK', 'BLYTHEWOOD', 'CARROL',\n",
       "       'DUNDALK MARINE TERMINAL', 'HOLLIN', '116102', '0', 'SANDTO',\n",
       "       'WOODME'], dtype=object)"
      ]
     },
     "execution_count": 10,
     "metadata": {},
     "output_type": "execute_result"
    }
   ],
   "source": [
    "dataset[\"Neighborhood\"].unique()"
   ]
  },
  {
   "cell_type": "code",
   "execution_count": 11,
   "metadata": {},
   "outputs": [
    {
     "data": {
      "text/plain": [
       "279"
      ]
     },
     "execution_count": 11,
     "metadata": {},
     "output_type": "execute_result"
    }
   ],
   "source": [
    "dataset[\"Neighborhood\"].unique().size"
   ]
  },
  {
   "cell_type": "code",
   "execution_count": 12,
   "metadata": {},
   "outputs": [
    {
     "data": {
      "text/plain": [
       "array(['GROCERY/CONFECTION', 'ROW/TOWNHOUSE-OCC', 'STREET',\n",
       "       'CONVENIENCE STORE', 'APT/CONDO - OCCUPIED', 'DEPARTMENT STORE',\n",
       "       'OTHER - OUTSIDE', 'RESTAURANT', 'OTHER - INSIDE', 'ALLEY',\n",
       "       'PARKING LOT-OUTSIDE', 'GAS STATION', 'GARAGE ON PRIV. PROP',\n",
       "       'CLOTHING/SHOE STORE', nan, 'DWELLING', 'VEHICLE',\n",
       "       'DRUG STORE / MED  BL', 'BANK/FINANCIAL INST', 'OFFICE BUILDING',\n",
       "       'HOSP/NURS. HOME', 'DRIVEWAY', 'SPECIALTY STORE',\n",
       "       'HOUSE UNDER CONSTRUC', 'ATM MACHINES', 'PUBLIC AREA',\n",
       "       'ROW/TOWNHOUSE-VAC', 'HOTEL/MOTEL', 'SCHOOL', 'VACANT BUILDING',\n",
       "       'YARD', 'PARKING LOT-INSIDE', 'HARDWARE/BLDG. SUP.', 'LIBRARY',\n",
       "       'PORCH/DECK', 'LIQUOR STORE', 'UNKNOWN', 'RETAIL/SMALL BUSINES',\n",
       "       'WHOLESALE/DISC. STOR', 'TAVERN/NIGHT CLUB', 'BAR',\n",
       "       'RELIGIOUS  INSTITUTI', 'PARK', 'CHAIN FOOD STORE', 'SINGLE HOUSE',\n",
       "       'BUS/AUTO', 'SHED/GARAGE', 'CEMETERY', 'BLDG UNDER CONST.',\n",
       "       'POLICE DEPARTMENT', 'BUS. PARK LOT-OUTSID', 'APARTMENT HALLWAY',\n",
       "       'RECREATION FACILITY', 'CONSTRUCTION SITE', 'PIZZA/OTHER DELIVERY',\n",
       "       'OTHER/RESIDENTIAL', 'APT/CONDO - VACANT', 'PUBLIC BUILDING',\n",
       "       'PUBLIC HOUSING', 'WAREHOUSE', 'FAST FOOD', 'MOBILE HOME',\n",
       "       'CARRY OUT', 'AUTO PARTS STORE', 'LAUNDRY/CLEANRS/SHOE',\n",
       "       'PARKING LOT', 'HOSPITAL', 'SHOPPING MALLS/CNTR', 'BAKERY',\n",
       "       'BUS.  STORAGE SHED', 'BUS/RAILROAD STATION', 'COMMON BUSINESS',\n",
       "       'CAR LOT-NEW/USED', 'BARBER/BEAUTY SHOP', 'YARD/BUSINESS',\n",
       "       'MINI STORAGE LOCKERS', 'COURT HOUSE', 'CAB', 'INNER HARBOR-S-KEY',\n",
       "       'CAR  REPAIR SHOP', 'VACANT DWELLING', 'GARAGE',\n",
       "       'PENITENTIARY/JAIL', 'TRACTOR TRAILER', 'INNER HARBOR-N-PRATT',\n",
       "       'RAILROAD CAR/YARD', 'PLAYGROUND/ATHLETIC', 'SALESMAN/COLLECTORS',\n",
       "       'CONVENTION CENTER', 'MAILBOX-STREET/RES.', 'PUBLIC SCHOOL',\n",
       "       'JEWELRY STORE', 'FIRE DEPARTMENT', 'STADIUM', 'VACANT LOT/WOODS',\n",
       "       'MARKET STALLS', 'APT. LOCKER/LAUNDRY', 'DOCTORS OFFICE',\n",
       "       'BOAT/SHIP', 'SUBWAY', 'CHURCH', 'INNER HARBOR-W-LIGHT',\n",
       "       'BUS. PARK LOT-INSIDE', 'SCHOOL PLAYGROUND', 'RACE TRACK',\n",
       "       'POOL/BOWLING/AMUSE.', 'SHED', 'DAY CARE FACILITY', 'PAWN SHOP',\n",
       "       'BOAT YARD', 'BRIDGE-PIERS-DOCKS', 'THEATRE',\n",
       "       'FINANCE/LOAN COMPANY', 'LIGHT RAIL', 'MANUFACTURING PLANT',\n",
       "       'UTILITIES-BG&E-C&P', 'RENTAL/VIDEO STORE', 'CLUB HOUSE/FRATERNIT',\n",
       "       'PHOTO STUDIO/CAMERA', \"BOX CARS/COMM'L TRLR\",\n",
       "       'STRUCTURE-OCCUPIED', 'ARENA', 'NIGHT DEPOSIT', 'MTA LOT',\n",
       "       'SKYWALK', 'TRUCKING & TRANSFER'], dtype=object)"
      ]
     },
     "execution_count": 12,
     "metadata": {},
     "output_type": "execute_result"
    }
   ],
   "source": [
    "dataset[\"Premise\"].unique()"
   ]
  },
  {
   "cell_type": "code",
   "execution_count": 13,
   "metadata": {},
   "outputs": [
    {
     "data": {
      "text/plain": [
       "126"
      ]
     },
     "execution_count": 13,
     "metadata": {},
     "output_type": "execute_result"
    }
   ],
   "source": [
    "dataset[\"Premise\"].unique().size"
   ]
  },
  {
   "cell_type": "code",
   "execution_count": 14,
   "metadata": {},
   "outputs": [
    {
     "data": {
      "text/plain": [
       "array(['Eastern 1', nan, 'Northeastern', 'Tri-District', 'Northwestern',\n",
       "       'Western', 'Central', 'Eastern 2', 'Brooklyn'], dtype=object)"
      ]
     },
     "execution_count": 14,
     "metadata": {},
     "output_type": "execute_result"
    }
   ],
   "source": [
    "dataset[\"vri_name1\"].unique()"
   ]
  },
  {
   "cell_type": "code",
   "execution_count": 15,
   "metadata": {},
   "outputs": [
    {
     "data": {
      "text/plain": [
       "9"
      ]
     },
     "execution_count": 15,
     "metadata": {},
     "output_type": "execute_result"
    }
   ],
   "source": [
    "dataset[\"vri_name1\"].unique().size"
   ]
  },
  {
   "cell_type": "markdown",
   "metadata": {},
   "source": [
    "# MISSING VALUES IN EACH ATTRIBUTE"
   ]
  },
  {
   "cell_type": "code",
   "execution_count": 16,
   "metadata": {},
   "outputs": [
    {
     "data": {
      "text/plain": [
       "CrimeDate          False\n",
       "CrimeTime           True\n",
       "CrimeCode          False\n",
       "Location            True\n",
       "Description        False\n",
       "Inside/Outside      True\n",
       "Weapon              True\n",
       "Post                True\n",
       "District           False\n",
       "Neighborhood        True\n",
       "Longitude           True\n",
       "Latitude            True\n",
       "Location 1          True\n",
       "Premise             True\n",
       "vri_name1           True\n",
       "Total Incidents    False\n",
       "dtype: bool"
      ]
     },
     "execution_count": 16,
     "metadata": {},
     "output_type": "execute_result"
    }
   ],
   "source": [
    "dataset.isnull().any()"
   ]
  },
  {
   "cell_type": "code",
   "execution_count": 17,
   "metadata": {},
   "outputs": [
    {
     "data": {
      "text/plain": [
       "CrimeDate               0\n",
       "CrimeTime              26\n",
       "CrimeCode               0\n",
       "Location             1336\n",
       "Description             0\n",
       "Inside/Outside      33760\n",
       "Weapon             231229\n",
       "Post                 2376\n",
       "District                0\n",
       "Neighborhood        10504\n",
       "Longitude            1635\n",
       "Latitude             1635\n",
       "Location 1         292761\n",
       "Premise             34012\n",
       "vri_name1          258177\n",
       "Total Incidents         0\n",
       "dtype: int64"
      ]
     },
     "execution_count": 17,
     "metadata": {},
     "output_type": "execute_result"
    }
   ],
   "source": [
    "dataset.isnull().sum()"
   ]
  },
  {
   "cell_type": "markdown",
   "metadata": {},
   "source": [
    "# LEVEL OF MISSINGNESS"
   ]
  },
  {
   "cell_type": "code",
   "execution_count": 18,
   "metadata": {},
   "outputs": [
    {
     "data": {
      "text/plain": [
       "CrimeDate            0.000000\n",
       "CrimeTime            0.008881\n",
       "CrimeCode            0.000000\n",
       "Location             0.456345\n",
       "Description          0.000000\n",
       "Inside/Outside      11.531591\n",
       "Weapon              78.982173\n",
       "Post                 0.811584\n",
       "District             0.000000\n",
       "Neighborhood         3.587910\n",
       "Longitude            0.558476\n",
       "Latitude             0.558476\n",
       "Location 1         100.000000\n",
       "Premise             11.617668\n",
       "vri_name1           88.186951\n",
       "Total Incidents      0.000000\n",
       "dtype: float64"
      ]
     },
     "execution_count": 18,
     "metadata": {},
     "output_type": "execute_result"
    }
   ],
   "source": [
    "dataset.isnull().sum()/len(dataset)*100"
   ]
  },
  {
   "cell_type": "code",
   "execution_count": null,
   "metadata": {},
   "outputs": [],
   "source": []
  }
 ],
 "metadata": {
  "kernelspec": {
   "display_name": "Python 3 (ipykernel)",
   "language": "python",
   "name": "python3"
  },
  "language_info": {
   "codemirror_mode": {
    "name": "ipython",
    "version": 3
   },
   "file_extension": ".py",
   "mimetype": "text/x-python",
   "name": "python",
   "nbconvert_exporter": "python",
   "pygments_lexer": "ipython3",
   "version": "3.9.7"
  }
 },
 "nbformat": 4,
 "nbformat_minor": 2
}
